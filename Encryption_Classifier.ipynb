{
 "cells": [
  {
   "cell_type": "code",
   "execution_count": 204,
   "id": "d423fae7",
   "metadata": {},
   "outputs": [],
   "source": [
    "import os\n",
    "import pickle\n",
    "\n",
    "import torch\n",
    "import torch.nn as nn\n",
    "import torch.nn.functional as F\n",
    "import torchvision\n",
    "\n",
    "from torchvision import datasets, transforms, utils\n",
    "from torch.utils import data\n",
    "from tqdm.notebook import tqdm\n",
    "from torch.utils.data.dataloader import Dataset\n",
    "\n",
    "import matplotlib.pyplot as plt\n",
    "import numpy as np\n",
    "import pandas as pd"
   ]
  },
  {
   "cell_type": "code",
   "execution_count": 2,
   "id": "f2a2459d",
   "metadata": {},
   "outputs": [
    {
     "name": "stdout",
     "output_type": "stream",
     "text": [
      "cuda\n"
     ]
    }
   ],
   "source": [
    "device = 'cuda' if torch.cuda.is_available() else 'cpu'\n",
    "print(device)"
   ]
  },
  {
   "cell_type": "code",
   "execution_count": 3,
   "id": "f46e6b0c",
   "metadata": {},
   "outputs": [],
   "source": [
    "def to_byte(payload):\n",
    "    out = []\n",
    "    for ii in range(0, len(payload), 2):\n",
    "        out.append(int(payload[ii : ii + 2], 16) + 1)\n",
    "    return out"
   ]
  },
  {
   "cell_type": "code",
   "execution_count": 258,
   "id": "35566656",
   "metadata": {},
   "outputs": [
    {
     "data": {
      "application/vnd.jupyter.widget-view+json": {
       "model_id": "9f90607052264555a546df0881fb741b",
       "version_major": 2,
       "version_minor": 0
      },
      "text/plain": [
       "  0%|          | 0/1306 [00:00<?, ?it/s]"
      ]
     },
     "metadata": {},
     "output_type": "display_data"
    },
    {
     "data": {
      "application/vnd.jupyter.widget-view+json": {
       "model_id": "9f554152daba4ab2a0fe25f7603fb306",
       "version_major": 2,
       "version_minor": 0
      },
      "text/plain": [
       "  0%|          | 0/1300 [00:00<?, ?it/s]"
      ]
     },
     "metadata": {},
     "output_type": "display_data"
    }
   ],
   "source": [
    "ae_train_data = []\n",
    "ae_valid_data = []\n",
    "train_data = []\n",
    "train_label = []\n",
    "valid_data = []\n",
    "valid_label = []\n",
    "test_data = []\n",
    "test_label = []\n",
    "for idx, file in enumerate(tqdm(os.listdir(save_enc))):\n",
    "    with open(rf\"{save_enc}\\{file}\", 'rb') as  f:\n",
    "        tmp = pickle.load(f)\n",
    "        if len(tmp) < 1500:\n",
    "            tmp.extend([0] * (1500-len(tmp)))\n",
    "        if idx % 5 == 0:\n",
    "            test_data.append(tmp[:1500])\n",
    "            test_label.append(1)\n",
    "        elif idx % 5 == 1:\n",
    "            valid_data.append(tmp[:1500])\n",
    "            valid_label.append(1)\n",
    "        else:\n",
    "            train_data.append(tmp[:1500])\n",
    "            train_label.append(1)\n",
    "        ae_valid_data.append(tmp[:1500])\n",
    "            \n",
    "for idx, file in enumerate(tqdm(os.listdir(save_plain)[:1300], total = 1300)):\n",
    "    with open(rf\"{save_plain}\\{file}\", 'rb') as  f:\n",
    "        tmp = pickle.load(f)\n",
    "        if len(tmp) < 1500:\n",
    "            tmp.extend([0] * (1500-len(tmp)))\n",
    "        if idx % 5 == 0:\n",
    "            test_data.append(tmp[:1500])\n",
    "            test_label.append(0)\n",
    "        elif idx % 5 == 1:\n",
    "            valid_data.append(tmp[:1500])\n",
    "            valid_label.append(0)\n",
    "        else:\n",
    "            train_data.append(tmp[:1500])\n",
    "            train_label.append(0)\n",
    "        ae_train_data.append(tmp[:1500])"
   ]
  },
  {
   "cell_type": "code",
   "execution_count": 176,
   "id": "06f21aca",
   "metadata": {},
   "outputs": [],
   "source": [
    "def tmp_devide(x):\n",
    "    return x/256\n",
    "\n",
    "class MyDataset(Dataset):\n",
    "    def __init__(self, data, label):\n",
    "        super(MyDataset, self).__init__()\n",
    "        self.data = data\n",
    "        self.label = label\n",
    "        self.scaling_data = []\n",
    "        self.scale_data()\n",
    "        \n",
    "    def scale_data(self):\n",
    "        for tmp_data in self.data:\n",
    "            self.scaling_data.append(list(map(tmp_devide, tmp_data)))\n",
    "        \n",
    "    \n",
    "    def __len__(self):\n",
    "        return len(self.data)\n",
    "    \n",
    "    def __getitem__(self, idx):\n",
    "        return torch.tensor(self.scaling_data[idx]), torch.tensor(self.data[idx][:300]), torch.tensor(self.label[idx])\n",
    "    \n",
    "class AeDataset(Dataset):\n",
    "    def __init__(self, data):\n",
    "        super(AeDataset, self).__init__()\n",
    "        self.data = data\n",
    "        self.scaling_data = []\n",
    "        self.scale_data()\n",
    "        \n",
    "    def scale_data(self):\n",
    "        for tmp_data in self.data:\n",
    "            self.scaling_data.append(list(map(tmp_devide, tmp_data)))\n",
    "        \n",
    "    \n",
    "    def __len__(self):\n",
    "        return len(self.data)\n",
    "    \n",
    "    def __getitem__(self, idx):\n",
    "        return torch.tensor(self.scaling_data[idx])\n",
    "#         return torch.tensor(self.data[idx])"
   ]
  },
  {
   "cell_type": "code",
   "execution_count": 238,
   "id": "c7cb3896",
   "metadata": {},
   "outputs": [],
   "source": [
    "ae_epoch = 128\n",
    "dnn_epoch = 128\n",
    "header_dims = 300\n",
    "window_size = 5\n",
    "input_dims = 1500\n",
    "batch_size = 16\n",
    "lr = 1e-4"
   ]
  },
  {
   "cell_type": "code",
   "execution_count": 194,
   "id": "0c1f2791",
   "metadata": {},
   "outputs": [],
   "source": [
    "train_dataset = MyDataset(train_data, train_label)\n",
    "valid_dataset = MyDataset(valid_data, valid_label)\n",
    "test_dataset = MyDataset(test_data, test_label)\n",
    "ae_train_dataset = AeDataset(ae_train_data)\n",
    "ae_valid_dataset = AeDataset(ae_valid_data)"
   ]
  },
  {
   "cell_type": "code",
   "execution_count": 195,
   "id": "f49456cf",
   "metadata": {},
   "outputs": [],
   "source": [
    "train_loader = data.DataLoader(train_dataset, batch_size = batch_size, shuffle=True)\n",
    "valid_loader = data.DataLoader(valid_dataset, batch_size = batch_size, shuffle=True)\n",
    "test_loader = data.DataLoader(test_dataset, batch_size=batch_size, shuffle=False)\n",
    "\n",
    "ae_train_loader = data.DataLoader(ae_train_dataset, batch_size = batch_size, shuffle=True)\n",
    "ae_valid_loader = data.DataLoader(ae_valid_dataset, batch_size = batch_size, shuffle=True)"
   ]
  },
  {
   "cell_type": "code",
   "execution_count": 196,
   "id": "5dcc3314",
   "metadata": {},
   "outputs": [],
   "source": [
    "class AutoEncoder(nn.Module):\n",
    "    def __init__(self, input_dims=1500):\n",
    "        super(AutoEncoder, self).__init__()\n",
    "        self.input_dims = input_dims\n",
    "        self.encoder = nn.Sequential(\n",
    "            nn.Linear(self.input_dims, 512),\n",
    "            nn.BatchNorm1d(512),\n",
    "            nn.LeakyReLU(),\n",
    "            nn.Linear(512, 128),\n",
    "            nn.BatchNorm1d(128),\n",
    "            nn.LeakyReLU(),\n",
    "            nn.Linear(128, 32),\n",
    "            nn.LeakyReLU()\n",
    "            )\n",
    "\n",
    "        self.decoder = nn.Sequential(\n",
    "            nn.Linear(32, 128),\n",
    "            nn.BatchNorm1d(128),\n",
    "            nn.LeakyReLU(),\n",
    "            nn.Linear(128, 512),\n",
    "            nn.BatchNorm1d(512),\n",
    "            nn.LeakyReLU(),\n",
    "            nn.Linear(512,self.input_dims)\n",
    "            )\n",
    "    \n",
    "    def forward(self, payload):\n",
    "        enc_x = self.encoder(payload)\n",
    "        dec_x = self.decoder(enc_x)\n",
    "        return dec_x"
   ]
  },
  {
   "cell_type": "code",
   "execution_count": 197,
   "id": "9fc22a6d",
   "metadata": {},
   "outputs": [],
   "source": [
    "class DNN(nn.Module):\n",
    "    def __init__(self, auto_encoder, header_dims = 300, input_dims=1500, window_size=5):\n",
    "        super(DNN, self).__init__()\n",
    "        self.input_dims = input_dims\n",
    "        self.auto_encoder = auto_encoder\n",
    "        self.embed = nn.Embedding(257, 8, padding_idx=0)\n",
    "        self.conv_1 = nn.Conv1d(8, 16, window_size, stride=1, padding=2)\n",
    "        self.pool1 = nn.AvgPool1d(2,2) # 150\n",
    "        self.conv_2 = nn.Conv1d(16, 32, window_size, stride=1, padding=2)\n",
    "        self.pool2 = nn.AvgPool1d(2,2) # 75 \n",
    "        self.conv_3 = nn.Conv1d(32, 64, window_size, stride=1, padding=2)\n",
    "        self.pool3 = nn.AvgPool1d(5,5) # 15 \n",
    "        self.conv_4 = nn.Conv1d(64, 128, window_size, stride=1, padding=2)\n",
    "        self.pool4 = nn.AvgPool1d(5,5) # 3 \n",
    "        \n",
    "        self.pooling = nn.MaxPool1d(3)\n",
    "        \n",
    "        self.fc_1 = nn.Linear(128, 10)\n",
    "        self.fc_2 = nn.Linear(11, 5)\n",
    "        self.fc_3 = nn.Linear(5, 1)\n",
    "        \n",
    "        self.leakyReLU = nn.LeakyReLU()\n",
    "        \n",
    "    def forward(self, payload, header):\n",
    "        ae_output = self.auto_encoder(payload)\n",
    "        rce = torch.mean(F.mse_loss(ae_output, payload, reduction='none'), dim=1)\n",
    "        x = self.embed(header)\n",
    "        x = torch.transpose(x, -1, -2)\n",
    "        x = self.pool1(self.leakyReLU(self.conv_1(x)))\n",
    "        x = self.pool2(self.leakyReLU(self.conv_2(x)))\n",
    "        x = self.pool3(self.leakyReLU(self.conv_3(x)))\n",
    "        x = self.pool4(self.leakyReLU(self.conv_4(x)))\n",
    "        \n",
    "        x = self.pooling(x)\n",
    "        x = self.leakyReLU(x.view(-1,128))\n",
    "        x = self.leakyReLU(self.fc_1(x))\n",
    "        rce = self.leakyReLU(rce.view(-1, 1))\n",
    "        x = torch.cat([x, rce], dim=1)\n",
    "        x = self.leakyReLU(self.fc_2(x))\n",
    "        x= torch.sigmoid(self.fc_3(x))\n",
    "        return x"
   ]
  },
  {
   "cell_type": "code",
   "execution_count": 252,
   "id": "075b76e9",
   "metadata": {},
   "outputs": [],
   "source": [
    "ae_model = AutoEncoder(input_dims).to(device)\n",
    "optimizer = torch.optim.AdamW(ae_model.parameters())\n",
    "criterion = F.mse_loss"
   ]
  },
  {
   "cell_type": "code",
   "execution_count": 253,
   "id": "62310434",
   "metadata": {},
   "outputs": [],
   "source": [
    "def get_label_loss(label, recon_error):\n",
    "    attack_loss = []\n",
    "    benign_loss = []\n",
    "    for i in range(len(label)):\n",
    "        if label[i] == 'BENIGN':\n",
    "            benign_loss.append(recon_error[i])\n",
    "        else:\n",
    "            attack_loss.append(recon_error[i])\n",
    "    return benign_loss, attack_loss"
   ]
  },
  {
   "cell_type": "code",
   "execution_count": 254,
   "id": "e6ea4c71",
   "metadata": {
    "scrolled": true
   },
   "outputs": [
    {
     "data": {
      "application/vnd.jupyter.widget-view+json": {
       "model_id": "4747cfbc705a4e32a18cb19be989aa1f",
       "version_major": 2,
       "version_minor": 0
      },
      "text/plain": [
       "AE training:   0%|          | 0/128 [00:00<?, ?it/s]"
      ]
     },
     "metadata": {},
     "output_type": "display_data"
    },
    {
     "data": {
      "application/vnd.jupyter.widget-view+json": {
       "model_id": "c4dbfd7cd27443a2aef97fd3b444d346",
       "version_major": 2,
       "version_minor": 0
      },
      "text/plain": [
       "  0%|          | 0/82 [00:00<?, ?it/s]"
      ]
     },
     "metadata": {},
     "output_type": "display_data"
    },
    {
     "name": "stdout",
     "output_type": "stream",
     "text": [
      "Epoch: 1 | Loss: 0.1255\n",
      "Epoch: 1 | Val Loss: 0.1423\n",
      "##########################################\n"
     ]
    },
    {
     "data": {
      "application/vnd.jupyter.widget-view+json": {
       "model_id": "6d224245b5314fdc8b80a56e9544f896",
       "version_major": 2,
       "version_minor": 0
      },
      "text/plain": [
       "  0%|          | 0/82 [00:00<?, ?it/s]"
      ]
     },
     "metadata": {},
     "output_type": "display_data"
    },
    {
     "name": "stdout",
     "output_type": "stream",
     "text": [
      "Epoch: 2 | Loss: 0.0851\n",
      "Epoch: 2 | Val Loss: 0.1037\n",
      "##########################################\n"
     ]
    },
    {
     "data": {
      "application/vnd.jupyter.widget-view+json": {
       "model_id": "4f8d6f680b764b1eaec13525d6e7f8bd",
       "version_major": 2,
       "version_minor": 0
      },
      "text/plain": [
       "  0%|          | 0/82 [00:00<?, ?it/s]"
      ]
     },
     "metadata": {},
     "output_type": "display_data"
    },
    {
     "name": "stdout",
     "output_type": "stream",
     "text": [
      "Epoch: 3 | Loss: 0.0818\n",
      "Epoch: 3 | Val Loss: 0.0889\n",
      "##########################################\n"
     ]
    },
    {
     "data": {
      "application/vnd.jupyter.widget-view+json": {
       "model_id": "6c6481401bab4145bb106b1cd16e5630",
       "version_major": 2,
       "version_minor": 0
      },
      "text/plain": [
       "  0%|          | 0/82 [00:00<?, ?it/s]"
      ]
     },
     "metadata": {},
     "output_type": "display_data"
    },
    {
     "name": "stdout",
     "output_type": "stream",
     "text": [
      "Epoch: 4 | Loss: 0.0802\n",
      "Epoch: 4 | Val Loss: 0.0825\n",
      "##########################################\n"
     ]
    },
    {
     "data": {
      "application/vnd.jupyter.widget-view+json": {
       "model_id": "45b06795017048c1a3e8eb3b21afa2e0",
       "version_major": 2,
       "version_minor": 0
      },
      "text/plain": [
       "  0%|          | 0/82 [00:00<?, ?it/s]"
      ]
     },
     "metadata": {},
     "output_type": "display_data"
    },
    {
     "name": "stdout",
     "output_type": "stream",
     "text": [
      "Epoch: 5 | Loss: 0.0795\n",
      "Epoch: 5 | Val Loss: 0.0731\n",
      "##########################################\n"
     ]
    },
    {
     "data": {
      "application/vnd.jupyter.widget-view+json": {
       "model_id": "6ce82539e6e14d1288fc4c666cb180ec",
       "version_major": 2,
       "version_minor": 0
      },
      "text/plain": [
       "  0%|          | 0/82 [00:00<?, ?it/s]"
      ]
     },
     "metadata": {},
     "output_type": "display_data"
    },
    {
     "name": "stdout",
     "output_type": "stream",
     "text": [
      "Epoch: 6 | Loss: 0.0788\n",
      "Epoch: 6 | Val Loss: 0.0712\n",
      "##########################################\n"
     ]
    },
    {
     "data": {
      "application/vnd.jupyter.widget-view+json": {
       "model_id": "775201561cc4465f9276b9fb6e0a08e5",
       "version_major": 2,
       "version_minor": 0
      },
      "text/plain": [
       "  0%|          | 0/82 [00:00<?, ?it/s]"
      ]
     },
     "metadata": {},
     "output_type": "display_data"
    },
    {
     "name": "stdout",
     "output_type": "stream",
     "text": [
      "Epoch: 7 | Loss: 0.0781\n",
      "Epoch: 7 | Val Loss: 0.0704\n",
      "##########################################\n"
     ]
    },
    {
     "data": {
      "application/vnd.jupyter.widget-view+json": {
       "model_id": "4b5328e2ad8d4bceb5311e3a8eacf1d9",
       "version_major": 2,
       "version_minor": 0
      },
      "text/plain": [
       "  0%|          | 0/82 [00:00<?, ?it/s]"
      ]
     },
     "metadata": {},
     "output_type": "display_data"
    },
    {
     "name": "stdout",
     "output_type": "stream",
     "text": [
      "Epoch: 8 | Loss: 0.0771\n",
      "Epoch: 8 | Val Loss: 0.0704\n",
      "##########################################\n"
     ]
    },
    {
     "data": {
      "application/vnd.jupyter.widget-view+json": {
       "model_id": "2899dd24f1af425b94ef5af8f8f1ae47",
       "version_major": 2,
       "version_minor": 0
      },
      "text/plain": [
       "  0%|          | 0/82 [00:00<?, ?it/s]"
      ]
     },
     "metadata": {},
     "output_type": "display_data"
    },
    {
     "name": "stdout",
     "output_type": "stream",
     "text": [
      "Epoch: 9 | Loss: 0.0767\n",
      "Epoch: 9 | Val Loss: 0.0713\n",
      "##########################################\n"
     ]
    },
    {
     "data": {
      "application/vnd.jupyter.widget-view+json": {
       "model_id": "d454a17299b24d889ac7877ef923d75a",
       "version_major": 2,
       "version_minor": 0
      },
      "text/plain": [
       "  0%|          | 0/82 [00:00<?, ?it/s]"
      ]
     },
     "metadata": {},
     "output_type": "display_data"
    },
    {
     "name": "stdout",
     "output_type": "stream",
     "text": [
      "Epoch: 10 | Loss: 0.0765\n",
      "Epoch: 10 | Val Loss: 0.0764\n",
      "##########################################\n"
     ]
    },
    {
     "data": {
      "application/vnd.jupyter.widget-view+json": {
       "model_id": "ec3b481c12284b5387cf44cca0315f5f",
       "version_major": 2,
       "version_minor": 0
      },
      "text/plain": [
       "  0%|          | 0/82 [00:00<?, ?it/s]"
      ]
     },
     "metadata": {},
     "output_type": "display_data"
    },
    {
     "name": "stdout",
     "output_type": "stream",
     "text": [
      "Epoch: 11 | Loss: 0.0769\n",
      "Epoch: 11 | Val Loss: 0.0695\n",
      "##########################################\n"
     ]
    },
    {
     "data": {
      "application/vnd.jupyter.widget-view+json": {
       "model_id": "26e733a80f24430390cb536fc65bf88e",
       "version_major": 2,
       "version_minor": 0
      },
      "text/plain": [
       "  0%|          | 0/82 [00:00<?, ?it/s]"
      ]
     },
     "metadata": {},
     "output_type": "display_data"
    },
    {
     "name": "stdout",
     "output_type": "stream",
     "text": [
      "Epoch: 12 | Loss: 0.0758\n",
      "Epoch: 12 | Val Loss: 0.0715\n",
      "##########################################\n"
     ]
    },
    {
     "data": {
      "application/vnd.jupyter.widget-view+json": {
       "model_id": "19e176d897ce4960a915a8e5ab834c08",
       "version_major": 2,
       "version_minor": 0
      },
      "text/plain": [
       "  0%|          | 0/82 [00:00<?, ?it/s]"
      ]
     },
     "metadata": {},
     "output_type": "display_data"
    },
    {
     "name": "stdout",
     "output_type": "stream",
     "text": [
      "Epoch: 13 | Loss: 0.0754\n",
      "Epoch: 13 | Val Loss: 0.0708\n",
      "##########################################\n"
     ]
    },
    {
     "data": {
      "application/vnd.jupyter.widget-view+json": {
       "model_id": "09d6b27e1c7343b082a1888242aae0d4",
       "version_major": 2,
       "version_minor": 0
      },
      "text/plain": [
       "  0%|          | 0/82 [00:00<?, ?it/s]"
      ]
     },
     "metadata": {},
     "output_type": "display_data"
    },
    {
     "name": "stdout",
     "output_type": "stream",
     "text": [
      "Epoch: 14 | Loss: 0.0751\n",
      "Epoch: 14 | Val Loss: 0.0725\n",
      "##########################################\n"
     ]
    },
    {
     "data": {
      "application/vnd.jupyter.widget-view+json": {
       "model_id": "d8e566306b574a06bab8089e577f8152",
       "version_major": 2,
       "version_minor": 0
      },
      "text/plain": [
       "  0%|          | 0/82 [00:00<?, ?it/s]"
      ]
     },
     "metadata": {},
     "output_type": "display_data"
    },
    {
     "name": "stdout",
     "output_type": "stream",
     "text": [
      "Epoch: 15 | Loss: 0.0752\n",
      "Epoch: 15 | Val Loss: 0.0704\n",
      "##########################################\n"
     ]
    },
    {
     "data": {
      "application/vnd.jupyter.widget-view+json": {
       "model_id": "2deabb1cae7e4a52851b95ba820cf4bb",
       "version_major": 2,
       "version_minor": 0
      },
      "text/plain": [
       "  0%|          | 0/82 [00:00<?, ?it/s]"
      ]
     },
     "metadata": {},
     "output_type": "display_data"
    },
    {
     "name": "stdout",
     "output_type": "stream",
     "text": [
      "Epoch: 16 | Loss: 0.0751\n",
      "Epoch: 16 | Val Loss: 0.0723\n",
      "##########################################\n"
     ]
    },
    {
     "data": {
      "application/vnd.jupyter.widget-view+json": {
       "model_id": "077935ccd20943d3be7073e7a4f8f0d0",
       "version_major": 2,
       "version_minor": 0
      },
      "text/plain": [
       "  0%|          | 0/82 [00:00<?, ?it/s]"
      ]
     },
     "metadata": {},
     "output_type": "display_data"
    },
    {
     "name": "stdout",
     "output_type": "stream",
     "text": [
      "Epoch: 17 | Loss: 0.0741\n",
      "Epoch: 17 | Val Loss: 0.0723\n",
      "##########################################\n"
     ]
    },
    {
     "data": {
      "application/vnd.jupyter.widget-view+json": {
       "model_id": "06361585b8e647a18b8c2731c6a21799",
       "version_major": 2,
       "version_minor": 0
      },
      "text/plain": [
       "  0%|          | 0/82 [00:00<?, ?it/s]"
      ]
     },
     "metadata": {},
     "output_type": "display_data"
    },
    {
     "name": "stdout",
     "output_type": "stream",
     "text": [
      "Epoch: 18 | Loss: 0.0740\n",
      "Epoch: 18 | Val Loss: 0.0730\n",
      "##########################################\n"
     ]
    },
    {
     "data": {
      "application/vnd.jupyter.widget-view+json": {
       "model_id": "fefae0fed4d94f8c9d1934085b6d3f50",
       "version_major": 2,
       "version_minor": 0
      },
      "text/plain": [
       "  0%|          | 0/82 [00:00<?, ?it/s]"
      ]
     },
     "metadata": {},
     "output_type": "display_data"
    },
    {
     "name": "stdout",
     "output_type": "stream",
     "text": [
      "Epoch: 19 | Loss: 0.0737\n",
      "Epoch: 19 | Val Loss: 0.0736\n",
      "##########################################\n"
     ]
    },
    {
     "data": {
      "application/vnd.jupyter.widget-view+json": {
       "model_id": "1c78fb0d05264873bd61ce37e2dca7ab",
       "version_major": 2,
       "version_minor": 0
      },
      "text/plain": [
       "  0%|          | 0/82 [00:00<?, ?it/s]"
      ]
     },
     "metadata": {},
     "output_type": "display_data"
    },
    {
     "name": "stdout",
     "output_type": "stream",
     "text": [
      "Epoch: 20 | Loss: 0.0735\n",
      "Epoch: 20 | Val Loss: 0.0714\n",
      "##########################################\n"
     ]
    },
    {
     "data": {
      "application/vnd.jupyter.widget-view+json": {
       "model_id": "494f500ab1db4790826bf5dcecb34f04",
       "version_major": 2,
       "version_minor": 0
      },
      "text/plain": [
       "  0%|          | 0/82 [00:00<?, ?it/s]"
      ]
     },
     "metadata": {},
     "output_type": "display_data"
    },
    {
     "name": "stdout",
     "output_type": "stream",
     "text": [
      "Epoch: 21 | Loss: 0.0734\n",
      "Epoch: 21 | Val Loss: 0.0767\n",
      "##########################################\n"
     ]
    },
    {
     "data": {
      "application/vnd.jupyter.widget-view+json": {
       "model_id": "723b8bffad1d416a8604f36aa479f71a",
       "version_major": 2,
       "version_minor": 0
      },
      "text/plain": [
       "  0%|          | 0/82 [00:00<?, ?it/s]"
      ]
     },
     "metadata": {},
     "output_type": "display_data"
    },
    {
     "name": "stdout",
     "output_type": "stream",
     "text": [
      "Epoch: 22 | Loss: 0.0732\n",
      "Epoch: 22 | Val Loss: 0.0771\n",
      "##########################################\n"
     ]
    },
    {
     "data": {
      "application/vnd.jupyter.widget-view+json": {
       "model_id": "2a5e9507f1604d5ab83f646c2a494d7c",
       "version_major": 2,
       "version_minor": 0
      },
      "text/plain": [
       "  0%|          | 0/82 [00:00<?, ?it/s]"
      ]
     },
     "metadata": {},
     "output_type": "display_data"
    },
    {
     "name": "stdout",
     "output_type": "stream",
     "text": [
      "Epoch: 23 | Loss: 0.0728\n",
      "Epoch: 23 | Val Loss: 0.0726\n",
      "##########################################\n"
     ]
    },
    {
     "data": {
      "application/vnd.jupyter.widget-view+json": {
       "model_id": "c475d066ae5346a79c2877daebcf3e32",
       "version_major": 2,
       "version_minor": 0
      },
      "text/plain": [
       "  0%|          | 0/82 [00:00<?, ?it/s]"
      ]
     },
     "metadata": {},
     "output_type": "display_data"
    },
    {
     "name": "stdout",
     "output_type": "stream",
     "text": [
      "Epoch: 24 | Loss: 0.0724\n",
      "Epoch: 24 | Val Loss: 0.0757\n",
      "##########################################\n"
     ]
    },
    {
     "data": {
      "application/vnd.jupyter.widget-view+json": {
       "model_id": "7fcb94df0bf948f792cc52575a6381d3",
       "version_major": 2,
       "version_minor": 0
      },
      "text/plain": [
       "  0%|          | 0/82 [00:00<?, ?it/s]"
      ]
     },
     "metadata": {},
     "output_type": "display_data"
    },
    {
     "name": "stdout",
     "output_type": "stream",
     "text": [
      "Epoch: 25 | Loss: 0.0722\n",
      "Epoch: 25 | Val Loss: 0.0726\n",
      "##########################################\n"
     ]
    },
    {
     "data": {
      "application/vnd.jupyter.widget-view+json": {
       "model_id": "1061c5033ede4823a0acafecccc58351",
       "version_major": 2,
       "version_minor": 0
      },
      "text/plain": [
       "  0%|          | 0/82 [00:00<?, ?it/s]"
      ]
     },
     "metadata": {},
     "output_type": "display_data"
    },
    {
     "name": "stdout",
     "output_type": "stream",
     "text": [
      "Epoch: 26 | Loss: 0.0722\n",
      "Epoch: 26 | Val Loss: 0.0731\n",
      "##########################################\n"
     ]
    },
    {
     "data": {
      "application/vnd.jupyter.widget-view+json": {
       "model_id": "bee6f85b332f47828bf738956dea401e",
       "version_major": 2,
       "version_minor": 0
      },
      "text/plain": [
       "  0%|          | 0/82 [00:00<?, ?it/s]"
      ]
     },
     "metadata": {},
     "output_type": "display_data"
    },
    {
     "name": "stdout",
     "output_type": "stream",
     "text": [
      "Epoch: 27 | Loss: 0.0720\n",
      "Epoch: 27 | Val Loss: 0.0741\n",
      "##########################################\n"
     ]
    },
    {
     "data": {
      "application/vnd.jupyter.widget-view+json": {
       "model_id": "7c106a4d22da48e5bb16881b6c109b00",
       "version_major": 2,
       "version_minor": 0
      },
      "text/plain": [
       "  0%|          | 0/82 [00:00<?, ?it/s]"
      ]
     },
     "metadata": {},
     "output_type": "display_data"
    },
    {
     "name": "stdout",
     "output_type": "stream",
     "text": [
      "Epoch: 28 | Loss: 0.0717\n",
      "Epoch: 28 | Val Loss: 0.0775\n",
      "##########################################\n"
     ]
    },
    {
     "data": {
      "application/vnd.jupyter.widget-view+json": {
       "model_id": "9e8a7551ad9a4a85a55a36cedb50c534",
       "version_major": 2,
       "version_minor": 0
      },
      "text/plain": [
       "  0%|          | 0/82 [00:00<?, ?it/s]"
      ]
     },
     "metadata": {},
     "output_type": "display_data"
    },
    {
     "name": "stdout",
     "output_type": "stream",
     "text": [
      "Epoch: 29 | Loss: 0.0714\n",
      "Epoch: 29 | Val Loss: 0.0690\n",
      "##########################################\n"
     ]
    },
    {
     "data": {
      "application/vnd.jupyter.widget-view+json": {
       "model_id": "449325b4d210413fac5e70130ae4d0ab",
       "version_major": 2,
       "version_minor": 0
      },
      "text/plain": [
       "  0%|          | 0/82 [00:00<?, ?it/s]"
      ]
     },
     "metadata": {},
     "output_type": "display_data"
    },
    {
     "name": "stdout",
     "output_type": "stream",
     "text": [
      "Epoch: 30 | Loss: 0.0712\n",
      "Epoch: 30 | Val Loss: 0.0739\n",
      "##########################################\n"
     ]
    },
    {
     "data": {
      "application/vnd.jupyter.widget-view+json": {
       "model_id": "658fdf3333534d45a4e49cfdbec5c1a6",
       "version_major": 2,
       "version_minor": 0
      },
      "text/plain": [
       "  0%|          | 0/82 [00:00<?, ?it/s]"
      ]
     },
     "metadata": {},
     "output_type": "display_data"
    },
    {
     "name": "stdout",
     "output_type": "stream",
     "text": [
      "Epoch: 31 | Loss: 0.0709\n",
      "Epoch: 31 | Val Loss: 0.0711\n",
      "##########################################\n"
     ]
    },
    {
     "data": {
      "application/vnd.jupyter.widget-view+json": {
       "model_id": "44334e0fac1d4867869aa5a2ac308c12",
       "version_major": 2,
       "version_minor": 0
      },
      "text/plain": [
       "  0%|          | 0/82 [00:00<?, ?it/s]"
      ]
     },
     "metadata": {},
     "output_type": "display_data"
    },
    {
     "name": "stdout",
     "output_type": "stream",
     "text": [
      "Epoch: 32 | Loss: 0.0708\n",
      "Epoch: 32 | Val Loss: 0.0671\n",
      "##########################################\n"
     ]
    },
    {
     "data": {
      "application/vnd.jupyter.widget-view+json": {
       "model_id": "5e5404f038bd4054b3be05762c19faf2",
       "version_major": 2,
       "version_minor": 0
      },
      "text/plain": [
       "  0%|          | 0/82 [00:00<?, ?it/s]"
      ]
     },
     "metadata": {},
     "output_type": "display_data"
    },
    {
     "name": "stdout",
     "output_type": "stream",
     "text": [
      "Epoch: 33 | Loss: 0.0706\n",
      "Epoch: 33 | Val Loss: 0.0741\n",
      "##########################################\n"
     ]
    },
    {
     "data": {
      "application/vnd.jupyter.widget-view+json": {
       "model_id": "bb076ab0185a47cfbd665cda6f68cddd",
       "version_major": 2,
       "version_minor": 0
      },
      "text/plain": [
       "  0%|          | 0/82 [00:00<?, ?it/s]"
      ]
     },
     "metadata": {},
     "output_type": "display_data"
    },
    {
     "name": "stdout",
     "output_type": "stream",
     "text": [
      "Epoch: 34 | Loss: 0.0704\n",
      "Epoch: 34 | Val Loss: 0.0721\n",
      "##########################################\n"
     ]
    },
    {
     "data": {
      "application/vnd.jupyter.widget-view+json": {
       "model_id": "ac3d57b0a6be4eaa9ad058e3398e1038",
       "version_major": 2,
       "version_minor": 0
      },
      "text/plain": [
       "  0%|          | 0/82 [00:00<?, ?it/s]"
      ]
     },
     "metadata": {},
     "output_type": "display_data"
    },
    {
     "name": "stdout",
     "output_type": "stream",
     "text": [
      "Epoch: 35 | Loss: 0.0703\n",
      "Epoch: 35 | Val Loss: 0.0823\n",
      "##########################################\n"
     ]
    },
    {
     "data": {
      "application/vnd.jupyter.widget-view+json": {
       "model_id": "ecfdc844e47941cd91103fba1a7ccaf4",
       "version_major": 2,
       "version_minor": 0
      },
      "text/plain": [
       "  0%|          | 0/82 [00:00<?, ?it/s]"
      ]
     },
     "metadata": {},
     "output_type": "display_data"
    },
    {
     "name": "stdout",
     "output_type": "stream",
     "text": [
      "Epoch: 36 | Loss: 0.0700\n",
      "Epoch: 36 | Val Loss: 0.0733\n",
      "##########################################\n"
     ]
    },
    {
     "data": {
      "application/vnd.jupyter.widget-view+json": {
       "model_id": "082e4547073f4e1f9c023f04cc4b9957",
       "version_major": 2,
       "version_minor": 0
      },
      "text/plain": [
       "  0%|          | 0/82 [00:00<?, ?it/s]"
      ]
     },
     "metadata": {},
     "output_type": "display_data"
    },
    {
     "name": "stdout",
     "output_type": "stream",
     "text": [
      "Epoch: 37 | Loss: 0.0699\n",
      "Epoch: 37 | Val Loss: 0.0866\n",
      "##########################################\n"
     ]
    },
    {
     "data": {
      "application/vnd.jupyter.widget-view+json": {
       "model_id": "7686e7d6b1df4e698703e13a4a9fde75",
       "version_major": 2,
       "version_minor": 0
      },
      "text/plain": [
       "  0%|          | 0/82 [00:00<?, ?it/s]"
      ]
     },
     "metadata": {},
     "output_type": "display_data"
    },
    {
     "name": "stdout",
     "output_type": "stream",
     "text": [
      "Epoch: 38 | Loss: 0.0693\n",
      "Epoch: 38 | Val Loss: 0.0769\n",
      "##########################################\n"
     ]
    },
    {
     "data": {
      "application/vnd.jupyter.widget-view+json": {
       "model_id": "b80baf592b0b49bba48ad69144926791",
       "version_major": 2,
       "version_minor": 0
      },
      "text/plain": [
       "  0%|          | 0/82 [00:00<?, ?it/s]"
      ]
     },
     "metadata": {},
     "output_type": "display_data"
    },
    {
     "name": "stdout",
     "output_type": "stream",
     "text": [
      "Epoch: 39 | Loss: 0.0690\n",
      "Epoch: 39 | Val Loss: 0.0737\n",
      "##########################################\n"
     ]
    },
    {
     "data": {
      "application/vnd.jupyter.widget-view+json": {
       "model_id": "487906ba5aac4ab1aabb9b4a9ce6d35d",
       "version_major": 2,
       "version_minor": 0
      },
      "text/plain": [
       "  0%|          | 0/82 [00:00<?, ?it/s]"
      ]
     },
     "metadata": {},
     "output_type": "display_data"
    },
    {
     "name": "stdout",
     "output_type": "stream",
     "text": [
      "Epoch: 40 | Loss: 0.0689\n",
      "Epoch: 40 | Val Loss: 0.0718\n",
      "##########################################\n"
     ]
    },
    {
     "data": {
      "application/vnd.jupyter.widget-view+json": {
       "model_id": "968b2ae5532f4fc681e92e22b3bead6a",
       "version_major": 2,
       "version_minor": 0
      },
      "text/plain": [
       "  0%|          | 0/82 [00:00<?, ?it/s]"
      ]
     },
     "metadata": {},
     "output_type": "display_data"
    },
    {
     "name": "stdout",
     "output_type": "stream",
     "text": [
      "Epoch: 41 | Loss: 0.0686\n",
      "Epoch: 41 | Val Loss: 0.0748\n",
      "##########################################\n"
     ]
    },
    {
     "data": {
      "application/vnd.jupyter.widget-view+json": {
       "model_id": "2906e0e639ea49ec8550838671448f20",
       "version_major": 2,
       "version_minor": 0
      },
      "text/plain": [
       "  0%|          | 0/82 [00:00<?, ?it/s]"
      ]
     },
     "metadata": {},
     "output_type": "display_data"
    },
    {
     "name": "stdout",
     "output_type": "stream",
     "text": [
      "Epoch: 42 | Loss: 0.0682\n",
      "Epoch: 42 | Val Loss: 0.0806\n",
      "##########################################\n"
     ]
    },
    {
     "data": {
      "application/vnd.jupyter.widget-view+json": {
       "model_id": "870026e56ff14bbb93943fa52b4f2a16",
       "version_major": 2,
       "version_minor": 0
      },
      "text/plain": [
       "  0%|          | 0/82 [00:00<?, ?it/s]"
      ]
     },
     "metadata": {},
     "output_type": "display_data"
    },
    {
     "name": "stdout",
     "output_type": "stream",
     "text": [
      "Epoch: 43 | Loss: 0.0680\n",
      "Epoch: 43 | Val Loss: 0.0797\n",
      "##########################################\n"
     ]
    },
    {
     "data": {
      "application/vnd.jupyter.widget-view+json": {
       "model_id": "10ef375d51be431f957498850f42041f",
       "version_major": 2,
       "version_minor": 0
      },
      "text/plain": [
       "  0%|          | 0/82 [00:00<?, ?it/s]"
      ]
     },
     "metadata": {},
     "output_type": "display_data"
    },
    {
     "name": "stdout",
     "output_type": "stream",
     "text": [
      "Epoch: 44 | Loss: 0.0678\n",
      "Epoch: 44 | Val Loss: 0.0745\n",
      "##########################################\n"
     ]
    },
    {
     "data": {
      "application/vnd.jupyter.widget-view+json": {
       "model_id": "6026aa56402548408bb03bcba65a982c",
       "version_major": 2,
       "version_minor": 0
      },
      "text/plain": [
       "  0%|          | 0/82 [00:00<?, ?it/s]"
      ]
     },
     "metadata": {},
     "output_type": "display_data"
    },
    {
     "name": "stdout",
     "output_type": "stream",
     "text": [
      "Epoch: 45 | Loss: 0.0675\n",
      "Epoch: 45 | Val Loss: 0.0795\n",
      "##########################################\n"
     ]
    },
    {
     "data": {
      "application/vnd.jupyter.widget-view+json": {
       "model_id": "504a6457367d4efe81f421199730889b",
       "version_major": 2,
       "version_minor": 0
      },
      "text/plain": [
       "  0%|          | 0/82 [00:00<?, ?it/s]"
      ]
     },
     "metadata": {},
     "output_type": "display_data"
    },
    {
     "name": "stdout",
     "output_type": "stream",
     "text": [
      "Epoch: 46 | Loss: 0.0672\n",
      "Epoch: 46 | Val Loss: 0.0754\n",
      "##########################################\n"
     ]
    },
    {
     "data": {
      "application/vnd.jupyter.widget-view+json": {
       "model_id": "58ab3b84cff84efba4715835e4cbe11e",
       "version_major": 2,
       "version_minor": 0
      },
      "text/plain": [
       "  0%|          | 0/82 [00:00<?, ?it/s]"
      ]
     },
     "metadata": {},
     "output_type": "display_data"
    },
    {
     "name": "stdout",
     "output_type": "stream",
     "text": [
      "Epoch: 47 | Loss: 0.0670\n",
      "Epoch: 47 | Val Loss: 0.0788\n",
      "##########################################\n"
     ]
    },
    {
     "data": {
      "application/vnd.jupyter.widget-view+json": {
       "model_id": "7e8c58d7f5c14b9d81f2e87f349b5ac8",
       "version_major": 2,
       "version_minor": 0
      },
      "text/plain": [
       "  0%|          | 0/82 [00:00<?, ?it/s]"
      ]
     },
     "metadata": {},
     "output_type": "display_data"
    },
    {
     "name": "stdout",
     "output_type": "stream",
     "text": [
      "Epoch: 48 | Loss: 0.0666\n",
      "Epoch: 48 | Val Loss: 0.0765\n",
      "##########################################\n"
     ]
    },
    {
     "data": {
      "application/vnd.jupyter.widget-view+json": {
       "model_id": "4cb66e39b0544b4c8371f7826517a634",
       "version_major": 2,
       "version_minor": 0
      },
      "text/plain": [
       "  0%|          | 0/82 [00:00<?, ?it/s]"
      ]
     },
     "metadata": {},
     "output_type": "display_data"
    },
    {
     "name": "stdout",
     "output_type": "stream",
     "text": [
      "Epoch: 49 | Loss: 0.0662\n",
      "Epoch: 49 | Val Loss: 0.0770\n",
      "##########################################\n"
     ]
    },
    {
     "data": {
      "application/vnd.jupyter.widget-view+json": {
       "model_id": "29d3f3bed79e4373a36dedd1062ee2ff",
       "version_major": 2,
       "version_minor": 0
      },
      "text/plain": [
       "  0%|          | 0/82 [00:00<?, ?it/s]"
      ]
     },
     "metadata": {},
     "output_type": "display_data"
    },
    {
     "name": "stdout",
     "output_type": "stream",
     "text": [
      "Epoch: 50 | Loss: 0.0662\n",
      "Epoch: 50 | Val Loss: 0.0818\n",
      "##########################################\n"
     ]
    },
    {
     "data": {
      "application/vnd.jupyter.widget-view+json": {
       "model_id": "f8fdcf3ac7bf426a9bd23065e893b1ff",
       "version_major": 2,
       "version_minor": 0
      },
      "text/plain": [
       "  0%|          | 0/82 [00:00<?, ?it/s]"
      ]
     },
     "metadata": {},
     "output_type": "display_data"
    },
    {
     "name": "stdout",
     "output_type": "stream",
     "text": [
      "Epoch: 51 | Loss: 0.0658\n",
      "Epoch: 51 | Val Loss: 0.0792\n",
      "##########################################\n"
     ]
    },
    {
     "data": {
      "application/vnd.jupyter.widget-view+json": {
       "model_id": "3bfd3fc74a43462d83261cd50ccbfb85",
       "version_major": 2,
       "version_minor": 0
      },
      "text/plain": [
       "  0%|          | 0/82 [00:00<?, ?it/s]"
      ]
     },
     "metadata": {},
     "output_type": "display_data"
    },
    {
     "name": "stdout",
     "output_type": "stream",
     "text": [
      "Epoch: 52 | Loss: 0.0655\n",
      "Epoch: 52 | Val Loss: 0.0755\n",
      "##########################################\n"
     ]
    },
    {
     "data": {
      "application/vnd.jupyter.widget-view+json": {
       "model_id": "aa0f071f3b834bc7a6e01a5845db6bf7",
       "version_major": 2,
       "version_minor": 0
      },
      "text/plain": [
       "  0%|          | 0/82 [00:00<?, ?it/s]"
      ]
     },
     "metadata": {},
     "output_type": "display_data"
    },
    {
     "name": "stdout",
     "output_type": "stream",
     "text": [
      "Epoch: 53 | Loss: 0.0651\n",
      "Epoch: 53 | Val Loss: 0.0747\n",
      "##########################################\n"
     ]
    },
    {
     "data": {
      "application/vnd.jupyter.widget-view+json": {
       "model_id": "0df8233fcfa3401eb5d93263c327961b",
       "version_major": 2,
       "version_minor": 0
      },
      "text/plain": [
       "  0%|          | 0/82 [00:00<?, ?it/s]"
      ]
     },
     "metadata": {},
     "output_type": "display_data"
    },
    {
     "name": "stdout",
     "output_type": "stream",
     "text": [
      "Epoch: 54 | Loss: 0.0648\n",
      "Epoch: 54 | Val Loss: 0.0815\n",
      "##########################################\n"
     ]
    },
    {
     "data": {
      "application/vnd.jupyter.widget-view+json": {
       "model_id": "e8b3fc8327954cd3ad10132d0f71743f",
       "version_major": 2,
       "version_minor": 0
      },
      "text/plain": [
       "  0%|          | 0/82 [00:00<?, ?it/s]"
      ]
     },
     "metadata": {},
     "output_type": "display_data"
    },
    {
     "name": "stdout",
     "output_type": "stream",
     "text": [
      "Epoch: 55 | Loss: 0.0645\n",
      "Epoch: 55 | Val Loss: 0.0764\n",
      "##########################################\n"
     ]
    },
    {
     "data": {
      "application/vnd.jupyter.widget-view+json": {
       "model_id": "1815dccd34864085b29d589ea7e00f4a",
       "version_major": 2,
       "version_minor": 0
      },
      "text/plain": [
       "  0%|          | 0/82 [00:00<?, ?it/s]"
      ]
     },
     "metadata": {},
     "output_type": "display_data"
    },
    {
     "name": "stdout",
     "output_type": "stream",
     "text": [
      "Epoch: 56 | Loss: 0.0641\n",
      "Epoch: 56 | Val Loss: 0.0829\n",
      "##########################################\n"
     ]
    },
    {
     "data": {
      "application/vnd.jupyter.widget-view+json": {
       "model_id": "16b7fd41ad5745a7a77e66bc4f1b6c6a",
       "version_major": 2,
       "version_minor": 0
      },
      "text/plain": [
       "  0%|          | 0/82 [00:00<?, ?it/s]"
      ]
     },
     "metadata": {},
     "output_type": "display_data"
    },
    {
     "name": "stdout",
     "output_type": "stream",
     "text": [
      "Epoch: 57 | Loss: 0.0640\n",
      "Epoch: 57 | Val Loss: 0.0731\n",
      "##########################################\n"
     ]
    },
    {
     "data": {
      "application/vnd.jupyter.widget-view+json": {
       "model_id": "efb0480c33dd4ae18a8f426e98c4ea3a",
       "version_major": 2,
       "version_minor": 0
      },
      "text/plain": [
       "  0%|          | 0/82 [00:00<?, ?it/s]"
      ]
     },
     "metadata": {},
     "output_type": "display_data"
    },
    {
     "name": "stdout",
     "output_type": "stream",
     "text": [
      "Epoch: 58 | Loss: 0.0644\n",
      "Epoch: 58 | Val Loss: 0.0721\n",
      "##########################################\n"
     ]
    },
    {
     "data": {
      "application/vnd.jupyter.widget-view+json": {
       "model_id": "9e7ebbe4c6254b5ba726824d6bd6f134",
       "version_major": 2,
       "version_minor": 0
      },
      "text/plain": [
       "  0%|          | 0/82 [00:00<?, ?it/s]"
      ]
     },
     "metadata": {},
     "output_type": "display_data"
    },
    {
     "name": "stdout",
     "output_type": "stream",
     "text": [
      "Epoch: 59 | Loss: 0.0642\n",
      "Epoch: 59 | Val Loss: 0.0774\n",
      "##########################################\n"
     ]
    },
    {
     "data": {
      "application/vnd.jupyter.widget-view+json": {
       "model_id": "92767d3520ae4fe5b9506295a83d4087",
       "version_major": 2,
       "version_minor": 0
      },
      "text/plain": [
       "  0%|          | 0/82 [00:00<?, ?it/s]"
      ]
     },
     "metadata": {},
     "output_type": "display_data"
    },
    {
     "name": "stdout",
     "output_type": "stream",
     "text": [
      "Epoch: 60 | Loss: 0.0637\n",
      "Epoch: 60 | Val Loss: 0.0791\n",
      "##########################################\n"
     ]
    },
    {
     "data": {
      "application/vnd.jupyter.widget-view+json": {
       "model_id": "0243c444bd8140f48c892860cf89347b",
       "version_major": 2,
       "version_minor": 0
      },
      "text/plain": [
       "  0%|          | 0/82 [00:00<?, ?it/s]"
      ]
     },
     "metadata": {},
     "output_type": "display_data"
    },
    {
     "name": "stdout",
     "output_type": "stream",
     "text": [
      "Epoch: 61 | Loss: 0.0631\n",
      "Epoch: 61 | Val Loss: 0.0770\n",
      "##########################################\n"
     ]
    },
    {
     "data": {
      "application/vnd.jupyter.widget-view+json": {
       "model_id": "eedef3a810004cf1af2f1cfea1ad018d",
       "version_major": 2,
       "version_minor": 0
      },
      "text/plain": [
       "  0%|          | 0/82 [00:00<?, ?it/s]"
      ]
     },
     "metadata": {},
     "output_type": "display_data"
    },
    {
     "name": "stdout",
     "output_type": "stream",
     "text": [
      "Epoch: 62 | Loss: 0.0628\n",
      "Epoch: 62 | Val Loss: 0.0816\n",
      "##########################################\n"
     ]
    },
    {
     "data": {
      "application/vnd.jupyter.widget-view+json": {
       "model_id": "fff786cb80d341729ae1cf9123b726bd",
       "version_major": 2,
       "version_minor": 0
      },
      "text/plain": [
       "  0%|          | 0/82 [00:00<?, ?it/s]"
      ]
     },
     "metadata": {},
     "output_type": "display_data"
    },
    {
     "name": "stdout",
     "output_type": "stream",
     "text": [
      "Epoch: 63 | Loss: 0.0629\n",
      "Epoch: 63 | Val Loss: 0.0781\n",
      "##########################################\n"
     ]
    },
    {
     "data": {
      "application/vnd.jupyter.widget-view+json": {
       "model_id": "d643f806ff4a48289a69f49efdcfa37b",
       "version_major": 2,
       "version_minor": 0
      },
      "text/plain": [
       "  0%|          | 0/82 [00:00<?, ?it/s]"
      ]
     },
     "metadata": {},
     "output_type": "display_data"
    },
    {
     "name": "stdout",
     "output_type": "stream",
     "text": [
      "Epoch: 64 | Loss: 0.0625\n",
      "Epoch: 64 | Val Loss: 0.0732\n",
      "##########################################\n"
     ]
    },
    {
     "data": {
      "application/vnd.jupyter.widget-view+json": {
       "model_id": "5f9fe1dacc264479be94538e9b511d87",
       "version_major": 2,
       "version_minor": 0
      },
      "text/plain": [
       "  0%|          | 0/82 [00:00<?, ?it/s]"
      ]
     },
     "metadata": {},
     "output_type": "display_data"
    },
    {
     "name": "stdout",
     "output_type": "stream",
     "text": [
      "Epoch: 65 | Loss: 0.0626\n",
      "Epoch: 65 | Val Loss: 0.0874\n",
      "##########################################\n"
     ]
    },
    {
     "data": {
      "application/vnd.jupyter.widget-view+json": {
       "model_id": "ed145aaa1fb44bd09c20e9d669acdbbc",
       "version_major": 2,
       "version_minor": 0
      },
      "text/plain": [
       "  0%|          | 0/82 [00:00<?, ?it/s]"
      ]
     },
     "metadata": {},
     "output_type": "display_data"
    },
    {
     "name": "stdout",
     "output_type": "stream",
     "text": [
      "Epoch: 66 | Loss: 0.0619\n",
      "Epoch: 66 | Val Loss: 0.0761\n",
      "##########################################\n"
     ]
    },
    {
     "data": {
      "application/vnd.jupyter.widget-view+json": {
       "model_id": "dfa1678c31984e19a34d8a5764100e4b",
       "version_major": 2,
       "version_minor": 0
      },
      "text/plain": [
       "  0%|          | 0/82 [00:00<?, ?it/s]"
      ]
     },
     "metadata": {},
     "output_type": "display_data"
    },
    {
     "name": "stdout",
     "output_type": "stream",
     "text": [
      "Epoch: 67 | Loss: 0.0615\n",
      "Epoch: 67 | Val Loss: 0.0732\n",
      "##########################################\n"
     ]
    },
    {
     "data": {
      "application/vnd.jupyter.widget-view+json": {
       "model_id": "7b3ff8fc30e2450d897bf0ec6d9f2a4f",
       "version_major": 2,
       "version_minor": 0
      },
      "text/plain": [
       "  0%|          | 0/82 [00:00<?, ?it/s]"
      ]
     },
     "metadata": {},
     "output_type": "display_data"
    },
    {
     "name": "stdout",
     "output_type": "stream",
     "text": [
      "Epoch: 68 | Loss: 0.0612\n",
      "Epoch: 68 | Val Loss: 0.0774\n",
      "##########################################\n"
     ]
    },
    {
     "data": {
      "application/vnd.jupyter.widget-view+json": {
       "model_id": "aec0f550b770418ca7a955358e4b2b9e",
       "version_major": 2,
       "version_minor": 0
      },
      "text/plain": [
       "  0%|          | 0/82 [00:00<?, ?it/s]"
      ]
     },
     "metadata": {},
     "output_type": "display_data"
    },
    {
     "name": "stdout",
     "output_type": "stream",
     "text": [
      "Epoch: 69 | Loss: 0.0612\n",
      "Epoch: 69 | Val Loss: 0.0769\n",
      "##########################################\n"
     ]
    },
    {
     "data": {
      "application/vnd.jupyter.widget-view+json": {
       "model_id": "ed59069e967d48569705b9c1b76a8d31",
       "version_major": 2,
       "version_minor": 0
      },
      "text/plain": [
       "  0%|          | 0/82 [00:00<?, ?it/s]"
      ]
     },
     "metadata": {},
     "output_type": "display_data"
    },
    {
     "name": "stdout",
     "output_type": "stream",
     "text": [
      "Epoch: 70 | Loss: 0.0611\n",
      "Epoch: 70 | Val Loss: 0.0772\n",
      "##########################################\n"
     ]
    },
    {
     "data": {
      "application/vnd.jupyter.widget-view+json": {
       "model_id": "599a0acc59b944f9a18ecff1a258ca73",
       "version_major": 2,
       "version_minor": 0
      },
      "text/plain": [
       "  0%|          | 0/82 [00:00<?, ?it/s]"
      ]
     },
     "metadata": {},
     "output_type": "display_data"
    },
    {
     "name": "stdout",
     "output_type": "stream",
     "text": [
      "Epoch: 71 | Loss: 0.0611\n",
      "Epoch: 71 | Val Loss: 0.0765\n",
      "##########################################\n"
     ]
    },
    {
     "data": {
      "application/vnd.jupyter.widget-view+json": {
       "model_id": "77bdb356b19341649c5c5a8a5e7822ad",
       "version_major": 2,
       "version_minor": 0
      },
      "text/plain": [
       "  0%|          | 0/82 [00:00<?, ?it/s]"
      ]
     },
     "metadata": {},
     "output_type": "display_data"
    },
    {
     "name": "stdout",
     "output_type": "stream",
     "text": [
      "Epoch: 72 | Loss: 0.0606\n",
      "Epoch: 72 | Val Loss: 0.0743\n",
      "##########################################\n"
     ]
    },
    {
     "data": {
      "application/vnd.jupyter.widget-view+json": {
       "model_id": "aaba1ea049324aa58ece2cc64c9bbb49",
       "version_major": 2,
       "version_minor": 0
      },
      "text/plain": [
       "  0%|          | 0/82 [00:00<?, ?it/s]"
      ]
     },
     "metadata": {},
     "output_type": "display_data"
    },
    {
     "name": "stdout",
     "output_type": "stream",
     "text": [
      "Epoch: 73 | Loss: 0.0604\n",
      "Epoch: 73 | Val Loss: 0.0767\n",
      "##########################################\n"
     ]
    },
    {
     "data": {
      "application/vnd.jupyter.widget-view+json": {
       "model_id": "adc431fdc4b1475f883786ef14b03d38",
       "version_major": 2,
       "version_minor": 0
      },
      "text/plain": [
       "  0%|          | 0/82 [00:00<?, ?it/s]"
      ]
     },
     "metadata": {},
     "output_type": "display_data"
    },
    {
     "name": "stdout",
     "output_type": "stream",
     "text": [
      "Epoch: 74 | Loss: 0.0603\n",
      "Epoch: 74 | Val Loss: 0.0750\n",
      "##########################################\n"
     ]
    },
    {
     "data": {
      "application/vnd.jupyter.widget-view+json": {
       "model_id": "d3ee4688173c4a03bcb1c2913df311a3",
       "version_major": 2,
       "version_minor": 0
      },
      "text/plain": [
       "  0%|          | 0/82 [00:00<?, ?it/s]"
      ]
     },
     "metadata": {},
     "output_type": "display_data"
    },
    {
     "name": "stdout",
     "output_type": "stream",
     "text": [
      "Epoch: 75 | Loss: 0.0601\n",
      "Epoch: 75 | Val Loss: 0.0759\n",
      "##########################################\n"
     ]
    },
    {
     "data": {
      "application/vnd.jupyter.widget-view+json": {
       "model_id": "cd054fc0ceb54feda1c4d3d695abcf56",
       "version_major": 2,
       "version_minor": 0
      },
      "text/plain": [
       "  0%|          | 0/82 [00:00<?, ?it/s]"
      ]
     },
     "metadata": {},
     "output_type": "display_data"
    },
    {
     "name": "stdout",
     "output_type": "stream",
     "text": [
      "Epoch: 76 | Loss: 0.0599\n",
      "Epoch: 76 | Val Loss: 0.0824\n",
      "##########################################\n"
     ]
    },
    {
     "data": {
      "application/vnd.jupyter.widget-view+json": {
       "model_id": "cbc420ec1dae40d6808ac45f1e5b3ded",
       "version_major": 2,
       "version_minor": 0
      },
      "text/plain": [
       "  0%|          | 0/82 [00:00<?, ?it/s]"
      ]
     },
     "metadata": {},
     "output_type": "display_data"
    },
    {
     "name": "stdout",
     "output_type": "stream",
     "text": [
      "Epoch: 77 | Loss: 0.0596\n",
      "Epoch: 77 | Val Loss: 0.0852\n",
      "##########################################\n"
     ]
    },
    {
     "data": {
      "application/vnd.jupyter.widget-view+json": {
       "model_id": "c8c1d4414dff486ca9936a13552f7b92",
       "version_major": 2,
       "version_minor": 0
      },
      "text/plain": [
       "  0%|          | 0/82 [00:00<?, ?it/s]"
      ]
     },
     "metadata": {},
     "output_type": "display_data"
    },
    {
     "name": "stdout",
     "output_type": "stream",
     "text": [
      "Epoch: 78 | Loss: 0.0597\n",
      "Epoch: 78 | Val Loss: 0.0772\n",
      "##########################################\n"
     ]
    },
    {
     "data": {
      "application/vnd.jupyter.widget-view+json": {
       "model_id": "9b4506dce60c4a549e5bf510084614ed",
       "version_major": 2,
       "version_minor": 0
      },
      "text/plain": [
       "  0%|          | 0/82 [00:00<?, ?it/s]"
      ]
     },
     "metadata": {},
     "output_type": "display_data"
    },
    {
     "name": "stdout",
     "output_type": "stream",
     "text": [
      "Epoch: 79 | Loss: 0.0594\n",
      "Epoch: 79 | Val Loss: 0.0749\n",
      "##########################################\n"
     ]
    },
    {
     "data": {
      "application/vnd.jupyter.widget-view+json": {
       "model_id": "ca4eadd4827d4079a8905a3a61dfb613",
       "version_major": 2,
       "version_minor": 0
      },
      "text/plain": [
       "  0%|          | 0/82 [00:00<?, ?it/s]"
      ]
     },
     "metadata": {},
     "output_type": "display_data"
    },
    {
     "name": "stdout",
     "output_type": "stream",
     "text": [
      "Epoch: 80 | Loss: 0.0593\n",
      "Epoch: 80 | Val Loss: 0.0790\n",
      "##########################################\n"
     ]
    },
    {
     "data": {
      "application/vnd.jupyter.widget-view+json": {
       "model_id": "3713d7164c4740d7985200f53b49bdf4",
       "version_major": 2,
       "version_minor": 0
      },
      "text/plain": [
       "  0%|          | 0/82 [00:00<?, ?it/s]"
      ]
     },
     "metadata": {},
     "output_type": "display_data"
    },
    {
     "name": "stdout",
     "output_type": "stream",
     "text": [
      "Epoch: 81 | Loss: 0.0593\n",
      "Epoch: 81 | Val Loss: 0.0845\n",
      "##########################################\n"
     ]
    },
    {
     "data": {
      "application/vnd.jupyter.widget-view+json": {
       "model_id": "da4d3446405e4e4fbb2fc335193fd730",
       "version_major": 2,
       "version_minor": 0
      },
      "text/plain": [
       "  0%|          | 0/82 [00:00<?, ?it/s]"
      ]
     },
     "metadata": {},
     "output_type": "display_data"
    },
    {
     "name": "stdout",
     "output_type": "stream",
     "text": [
      "Epoch: 82 | Loss: 0.0591\n",
      "Epoch: 82 | Val Loss: 0.0760\n",
      "##########################################\n"
     ]
    },
    {
     "data": {
      "application/vnd.jupyter.widget-view+json": {
       "model_id": "f117c471ee2d480b92dd6d4dab280155",
       "version_major": 2,
       "version_minor": 0
      },
      "text/plain": [
       "  0%|          | 0/82 [00:00<?, ?it/s]"
      ]
     },
     "metadata": {},
     "output_type": "display_data"
    },
    {
     "name": "stdout",
     "output_type": "stream",
     "text": [
      "Epoch: 83 | Loss: 0.0590\n",
      "Epoch: 83 | Val Loss: 0.0763\n",
      "##########################################\n"
     ]
    },
    {
     "data": {
      "application/vnd.jupyter.widget-view+json": {
       "model_id": "9953d2e79ff347df8a8866b4f0a0f91c",
       "version_major": 2,
       "version_minor": 0
      },
      "text/plain": [
       "  0%|          | 0/82 [00:00<?, ?it/s]"
      ]
     },
     "metadata": {},
     "output_type": "display_data"
    },
    {
     "name": "stdout",
     "output_type": "stream",
     "text": [
      "Epoch: 84 | Loss: 0.0589\n",
      "Epoch: 84 | Val Loss: 0.0770\n",
      "##########################################\n"
     ]
    },
    {
     "data": {
      "application/vnd.jupyter.widget-view+json": {
       "model_id": "5ba2b0c502444629b78db1f65bb4fe00",
       "version_major": 2,
       "version_minor": 0
      },
      "text/plain": [
       "  0%|          | 0/82 [00:00<?, ?it/s]"
      ]
     },
     "metadata": {},
     "output_type": "display_data"
    },
    {
     "name": "stdout",
     "output_type": "stream",
     "text": [
      "Epoch: 85 | Loss: 0.0586\n",
      "Epoch: 85 | Val Loss: 0.0752\n",
      "##########################################\n"
     ]
    },
    {
     "data": {
      "application/vnd.jupyter.widget-view+json": {
       "model_id": "2bc4f18def3843819edda2833a2d586c",
       "version_major": 2,
       "version_minor": 0
      },
      "text/plain": [
       "  0%|          | 0/82 [00:00<?, ?it/s]"
      ]
     },
     "metadata": {},
     "output_type": "display_data"
    },
    {
     "name": "stdout",
     "output_type": "stream",
     "text": [
      "Epoch: 86 | Loss: 0.0587\n",
      "Epoch: 86 | Val Loss: 0.0835\n",
      "##########################################\n"
     ]
    },
    {
     "data": {
      "application/vnd.jupyter.widget-view+json": {
       "model_id": "3a6ad736df40484597d361a25b9c49ce",
       "version_major": 2,
       "version_minor": 0
      },
      "text/plain": [
       "  0%|          | 0/82 [00:00<?, ?it/s]"
      ]
     },
     "metadata": {},
     "output_type": "display_data"
    },
    {
     "name": "stdout",
     "output_type": "stream",
     "text": [
      "Epoch: 87 | Loss: 0.0587\n",
      "Epoch: 87 | Val Loss: 0.0801\n",
      "##########################################\n"
     ]
    },
    {
     "data": {
      "application/vnd.jupyter.widget-view+json": {
       "model_id": "e2a1a883a97f459f8b73fcc2b725f4ed",
       "version_major": 2,
       "version_minor": 0
      },
      "text/plain": [
       "  0%|          | 0/82 [00:00<?, ?it/s]"
      ]
     },
     "metadata": {},
     "output_type": "display_data"
    },
    {
     "name": "stdout",
     "output_type": "stream",
     "text": [
      "Epoch: 88 | Loss: 0.0584\n",
      "Epoch: 88 | Val Loss: 0.0804\n",
      "##########################################\n"
     ]
    },
    {
     "data": {
      "application/vnd.jupyter.widget-view+json": {
       "model_id": "862b1ceb5b284f9481f73e738576848e",
       "version_major": 2,
       "version_minor": 0
      },
      "text/plain": [
       "  0%|          | 0/82 [00:00<?, ?it/s]"
      ]
     },
     "metadata": {},
     "output_type": "display_data"
    },
    {
     "name": "stdout",
     "output_type": "stream",
     "text": [
      "Epoch: 89 | Loss: 0.0582\n",
      "Epoch: 89 | Val Loss: 0.0766\n",
      "##########################################\n"
     ]
    },
    {
     "data": {
      "application/vnd.jupyter.widget-view+json": {
       "model_id": "88ac7fd057fd4690926182d5ea9a8345",
       "version_major": 2,
       "version_minor": 0
      },
      "text/plain": [
       "  0%|          | 0/82 [00:00<?, ?it/s]"
      ]
     },
     "metadata": {},
     "output_type": "display_data"
    },
    {
     "name": "stdout",
     "output_type": "stream",
     "text": [
      "Epoch: 90 | Loss: 0.0580\n",
      "Epoch: 90 | Val Loss: 0.0809\n",
      "##########################################\n"
     ]
    },
    {
     "data": {
      "application/vnd.jupyter.widget-view+json": {
       "model_id": "2c14724f4d7141a18efd51461214ce43",
       "version_major": 2,
       "version_minor": 0
      },
      "text/plain": [
       "  0%|          | 0/82 [00:00<?, ?it/s]"
      ]
     },
     "metadata": {},
     "output_type": "display_data"
    },
    {
     "name": "stdout",
     "output_type": "stream",
     "text": [
      "Epoch: 91 | Loss: 0.0579\n",
      "Epoch: 91 | Val Loss: 0.0781\n",
      "##########################################\n"
     ]
    },
    {
     "data": {
      "application/vnd.jupyter.widget-view+json": {
       "model_id": "abba36cd3af64a338e19d1b5ac20b99d",
       "version_major": 2,
       "version_minor": 0
      },
      "text/plain": [
       "  0%|          | 0/82 [00:00<?, ?it/s]"
      ]
     },
     "metadata": {},
     "output_type": "display_data"
    },
    {
     "name": "stdout",
     "output_type": "stream",
     "text": [
      "Epoch: 92 | Loss: 0.0578\n",
      "Epoch: 92 | Val Loss: 0.0795\n",
      "##########################################\n"
     ]
    },
    {
     "data": {
      "application/vnd.jupyter.widget-view+json": {
       "model_id": "2528fb7f0b0741bb850d26dfc014e4a8",
       "version_major": 2,
       "version_minor": 0
      },
      "text/plain": [
       "  0%|          | 0/82 [00:00<?, ?it/s]"
      ]
     },
     "metadata": {},
     "output_type": "display_data"
    },
    {
     "name": "stdout",
     "output_type": "stream",
     "text": [
      "Epoch: 93 | Loss: 0.0580\n",
      "Epoch: 93 | Val Loss: 0.0742\n",
      "##########################################\n"
     ]
    },
    {
     "data": {
      "application/vnd.jupyter.widget-view+json": {
       "model_id": "4ef3a83f92804d22882b93ddf9b4e954",
       "version_major": 2,
       "version_minor": 0
      },
      "text/plain": [
       "  0%|          | 0/82 [00:00<?, ?it/s]"
      ]
     },
     "metadata": {},
     "output_type": "display_data"
    },
    {
     "name": "stdout",
     "output_type": "stream",
     "text": [
      "Epoch: 94 | Loss: 0.0581\n",
      "Epoch: 94 | Val Loss: 0.0782\n",
      "##########################################\n"
     ]
    },
    {
     "data": {
      "application/vnd.jupyter.widget-view+json": {
       "model_id": "7bf36a261372497ba86763522c864679",
       "version_major": 2,
       "version_minor": 0
      },
      "text/plain": [
       "  0%|          | 0/82 [00:00<?, ?it/s]"
      ]
     },
     "metadata": {},
     "output_type": "display_data"
    },
    {
     "name": "stdout",
     "output_type": "stream",
     "text": [
      "Epoch: 95 | Loss: 0.0574\n",
      "Epoch: 95 | Val Loss: 0.0817\n",
      "##########################################\n"
     ]
    },
    {
     "data": {
      "application/vnd.jupyter.widget-view+json": {
       "model_id": "e7e788139d214010802516a320b573d3",
       "version_major": 2,
       "version_minor": 0
      },
      "text/plain": [
       "  0%|          | 0/82 [00:00<?, ?it/s]"
      ]
     },
     "metadata": {},
     "output_type": "display_data"
    },
    {
     "name": "stdout",
     "output_type": "stream",
     "text": [
      "Epoch: 96 | Loss: 0.0575\n",
      "Epoch: 96 | Val Loss: 0.0811\n",
      "##########################################\n"
     ]
    },
    {
     "data": {
      "application/vnd.jupyter.widget-view+json": {
       "model_id": "46b5f54a47e74d16a801488b34c82b2c",
       "version_major": 2,
       "version_minor": 0
      },
      "text/plain": [
       "  0%|          | 0/82 [00:00<?, ?it/s]"
      ]
     },
     "metadata": {},
     "output_type": "display_data"
    },
    {
     "name": "stdout",
     "output_type": "stream",
     "text": [
      "Epoch: 97 | Loss: 0.0575\n",
      "Epoch: 97 | Val Loss: 0.0773\n",
      "##########################################\n"
     ]
    },
    {
     "data": {
      "application/vnd.jupyter.widget-view+json": {
       "model_id": "1abdcf29c748494199883dca9848f7c7",
       "version_major": 2,
       "version_minor": 0
      },
      "text/plain": [
       "  0%|          | 0/82 [00:00<?, ?it/s]"
      ]
     },
     "metadata": {},
     "output_type": "display_data"
    },
    {
     "name": "stdout",
     "output_type": "stream",
     "text": [
      "Epoch: 98 | Loss: 0.0572\n",
      "Epoch: 98 | Val Loss: 0.0829\n",
      "##########################################\n"
     ]
    },
    {
     "data": {
      "application/vnd.jupyter.widget-view+json": {
       "model_id": "ae367ed695794c05ac964e8f9e393364",
       "version_major": 2,
       "version_minor": 0
      },
      "text/plain": [
       "  0%|          | 0/82 [00:00<?, ?it/s]"
      ]
     },
     "metadata": {},
     "output_type": "display_data"
    },
    {
     "name": "stdout",
     "output_type": "stream",
     "text": [
      "Epoch: 99 | Loss: 0.0571\n",
      "Epoch: 99 | Val Loss: 0.0780\n",
      "##########################################\n"
     ]
    },
    {
     "data": {
      "application/vnd.jupyter.widget-view+json": {
       "model_id": "bd644222cee44d4a8c4d50874bec69a6",
       "version_major": 2,
       "version_minor": 0
      },
      "text/plain": [
       "  0%|          | 0/82 [00:00<?, ?it/s]"
      ]
     },
     "metadata": {},
     "output_type": "display_data"
    },
    {
     "name": "stdout",
     "output_type": "stream",
     "text": [
      "Epoch: 100 | Loss: 0.0571\n",
      "Epoch: 100 | Val Loss: 0.0791\n",
      "##########################################\n"
     ]
    },
    {
     "data": {
      "application/vnd.jupyter.widget-view+json": {
       "model_id": "6091184a80514807a1b68fd905cebe3c",
       "version_major": 2,
       "version_minor": 0
      },
      "text/plain": [
       "  0%|          | 0/82 [00:00<?, ?it/s]"
      ]
     },
     "metadata": {},
     "output_type": "display_data"
    },
    {
     "name": "stdout",
     "output_type": "stream",
     "text": [
      "Epoch: 101 | Loss: 0.0568\n",
      "Epoch: 101 | Val Loss: 0.0789\n",
      "##########################################\n"
     ]
    },
    {
     "data": {
      "application/vnd.jupyter.widget-view+json": {
       "model_id": "9f477e7499f948ac9f044dff45b924a1",
       "version_major": 2,
       "version_minor": 0
      },
      "text/plain": [
       "  0%|          | 0/82 [00:00<?, ?it/s]"
      ]
     },
     "metadata": {},
     "output_type": "display_data"
    },
    {
     "name": "stdout",
     "output_type": "stream",
     "text": [
      "Epoch: 102 | Loss: 0.0570\n",
      "Epoch: 102 | Val Loss: 0.0778\n",
      "##########################################\n"
     ]
    },
    {
     "data": {
      "application/vnd.jupyter.widget-view+json": {
       "model_id": "586e4782897641ffaa0106d7c7e35386",
       "version_major": 2,
       "version_minor": 0
      },
      "text/plain": [
       "  0%|          | 0/82 [00:00<?, ?it/s]"
      ]
     },
     "metadata": {},
     "output_type": "display_data"
    },
    {
     "name": "stdout",
     "output_type": "stream",
     "text": [
      "Epoch: 103 | Loss: 0.0571\n",
      "Epoch: 103 | Val Loss: 0.0794\n",
      "##########################################\n"
     ]
    },
    {
     "data": {
      "application/vnd.jupyter.widget-view+json": {
       "model_id": "79522f311c7c4d548558a588535dc4d4",
       "version_major": 2,
       "version_minor": 0
      },
      "text/plain": [
       "  0%|          | 0/82 [00:00<?, ?it/s]"
      ]
     },
     "metadata": {},
     "output_type": "display_data"
    },
    {
     "name": "stdout",
     "output_type": "stream",
     "text": [
      "Epoch: 104 | Loss: 0.0570\n",
      "Epoch: 104 | Val Loss: 0.0785\n",
      "##########################################\n"
     ]
    },
    {
     "data": {
      "application/vnd.jupyter.widget-view+json": {
       "model_id": "4ebe071381854baeab3fb4c71265b97c",
       "version_major": 2,
       "version_minor": 0
      },
      "text/plain": [
       "  0%|          | 0/82 [00:00<?, ?it/s]"
      ]
     },
     "metadata": {},
     "output_type": "display_data"
    },
    {
     "name": "stdout",
     "output_type": "stream",
     "text": [
      "Epoch: 105 | Loss: 0.0565\n",
      "Epoch: 105 | Val Loss: 0.0786\n",
      "##########################################\n"
     ]
    },
    {
     "data": {
      "application/vnd.jupyter.widget-view+json": {
       "model_id": "9a377b6eba4044d7bba1a1c41c5b4467",
       "version_major": 2,
       "version_minor": 0
      },
      "text/plain": [
       "  0%|          | 0/82 [00:00<?, ?it/s]"
      ]
     },
     "metadata": {},
     "output_type": "display_data"
    },
    {
     "name": "stdout",
     "output_type": "stream",
     "text": [
      "Epoch: 106 | Loss: 0.0567\n",
      "Epoch: 106 | Val Loss: 0.0766\n",
      "##########################################\n"
     ]
    },
    {
     "data": {
      "application/vnd.jupyter.widget-view+json": {
       "model_id": "2c9982224bc4426ea12d767e78d409af",
       "version_major": 2,
       "version_minor": 0
      },
      "text/plain": [
       "  0%|          | 0/82 [00:00<?, ?it/s]"
      ]
     },
     "metadata": {},
     "output_type": "display_data"
    },
    {
     "name": "stdout",
     "output_type": "stream",
     "text": [
      "Epoch: 107 | Loss: 0.0567\n",
      "Epoch: 107 | Val Loss: 0.0794\n",
      "##########################################\n"
     ]
    },
    {
     "data": {
      "application/vnd.jupyter.widget-view+json": {
       "model_id": "5972fcdc77d6444f85f7dd757d601bfa",
       "version_major": 2,
       "version_minor": 0
      },
      "text/plain": [
       "  0%|          | 0/82 [00:00<?, ?it/s]"
      ]
     },
     "metadata": {},
     "output_type": "display_data"
    },
    {
     "name": "stdout",
     "output_type": "stream",
     "text": [
      "Epoch: 108 | Loss: 0.0564\n",
      "Epoch: 108 | Val Loss: 0.0803\n",
      "##########################################\n"
     ]
    },
    {
     "data": {
      "application/vnd.jupyter.widget-view+json": {
       "model_id": "e6bb7243887644eda021ac968ea20d42",
       "version_major": 2,
       "version_minor": 0
      },
      "text/plain": [
       "  0%|          | 0/82 [00:00<?, ?it/s]"
      ]
     },
     "metadata": {},
     "output_type": "display_data"
    },
    {
     "name": "stdout",
     "output_type": "stream",
     "text": [
      "Epoch: 109 | Loss: 0.0562\n",
      "Epoch: 109 | Val Loss: 0.0844\n",
      "##########################################\n"
     ]
    },
    {
     "data": {
      "application/vnd.jupyter.widget-view+json": {
       "model_id": "f5381946c82740cd9e1e32e9ce4605a0",
       "version_major": 2,
       "version_minor": 0
      },
      "text/plain": [
       "  0%|          | 0/82 [00:00<?, ?it/s]"
      ]
     },
     "metadata": {},
     "output_type": "display_data"
    },
    {
     "name": "stdout",
     "output_type": "stream",
     "text": [
      "Epoch: 110 | Loss: 0.0563\n",
      "Epoch: 110 | Val Loss: 0.0775\n",
      "##########################################\n"
     ]
    },
    {
     "data": {
      "application/vnd.jupyter.widget-view+json": {
       "model_id": "c33807aac2c34be9bf04a7db8722e049",
       "version_major": 2,
       "version_minor": 0
      },
      "text/plain": [
       "  0%|          | 0/82 [00:00<?, ?it/s]"
      ]
     },
     "metadata": {},
     "output_type": "display_data"
    },
    {
     "name": "stdout",
     "output_type": "stream",
     "text": [
      "Epoch: 111 | Loss: 0.0564\n",
      "Epoch: 111 | Val Loss: 0.0822\n",
      "##########################################\n"
     ]
    },
    {
     "data": {
      "application/vnd.jupyter.widget-view+json": {
       "model_id": "7269b794324647dfbc6bd8b5861a8003",
       "version_major": 2,
       "version_minor": 0
      },
      "text/plain": [
       "  0%|          | 0/82 [00:00<?, ?it/s]"
      ]
     },
     "metadata": {},
     "output_type": "display_data"
    },
    {
     "name": "stdout",
     "output_type": "stream",
     "text": [
      "Epoch: 112 | Loss: 0.0562\n",
      "Epoch: 112 | Val Loss: 0.0829\n",
      "##########################################\n"
     ]
    },
    {
     "data": {
      "application/vnd.jupyter.widget-view+json": {
       "model_id": "a568125dbb174d51add52afd8a407b47",
       "version_major": 2,
       "version_minor": 0
      },
      "text/plain": [
       "  0%|          | 0/82 [00:00<?, ?it/s]"
      ]
     },
     "metadata": {},
     "output_type": "display_data"
    },
    {
     "name": "stdout",
     "output_type": "stream",
     "text": [
      "Epoch: 113 | Loss: 0.0560\n",
      "Epoch: 113 | Val Loss: 0.0783\n",
      "##########################################\n"
     ]
    },
    {
     "data": {
      "application/vnd.jupyter.widget-view+json": {
       "model_id": "55cd9175a68844909dceea5fc5b0537b",
       "version_major": 2,
       "version_minor": 0
      },
      "text/plain": [
       "  0%|          | 0/82 [00:00<?, ?it/s]"
      ]
     },
     "metadata": {},
     "output_type": "display_data"
    },
    {
     "name": "stdout",
     "output_type": "stream",
     "text": [
      "Epoch: 114 | Loss: 0.0560\n",
      "Epoch: 114 | Val Loss: 0.0780\n",
      "##########################################\n"
     ]
    },
    {
     "data": {
      "application/vnd.jupyter.widget-view+json": {
       "model_id": "02118629005b4cb1bfbad354f359b2db",
       "version_major": 2,
       "version_minor": 0
      },
      "text/plain": [
       "  0%|          | 0/82 [00:00<?, ?it/s]"
      ]
     },
     "metadata": {},
     "output_type": "display_data"
    },
    {
     "name": "stdout",
     "output_type": "stream",
     "text": [
      "Epoch: 115 | Loss: 0.0560\n",
      "Epoch: 115 | Val Loss: 0.0793\n",
      "##########################################\n"
     ]
    },
    {
     "data": {
      "application/vnd.jupyter.widget-view+json": {
       "model_id": "43d6024b480f423981c2506a2158347b",
       "version_major": 2,
       "version_minor": 0
      },
      "text/plain": [
       "  0%|          | 0/82 [00:00<?, ?it/s]"
      ]
     },
     "metadata": {},
     "output_type": "display_data"
    },
    {
     "name": "stdout",
     "output_type": "stream",
     "text": [
      "Epoch: 116 | Loss: 0.0560\n",
      "Epoch: 116 | Val Loss: 0.0756\n",
      "##########################################\n"
     ]
    },
    {
     "data": {
      "application/vnd.jupyter.widget-view+json": {
       "model_id": "f192ac18b97a4960bce245c1cfa3e09a",
       "version_major": 2,
       "version_minor": 0
      },
      "text/plain": [
       "  0%|          | 0/82 [00:00<?, ?it/s]"
      ]
     },
     "metadata": {},
     "output_type": "display_data"
    },
    {
     "name": "stdout",
     "output_type": "stream",
     "text": [
      "Epoch: 117 | Loss: 0.0559\n",
      "Epoch: 117 | Val Loss: 0.0806\n",
      "##########################################\n"
     ]
    },
    {
     "data": {
      "application/vnd.jupyter.widget-view+json": {
       "model_id": "ebc6c9ec86e34af4a1462d372ee547f3",
       "version_major": 2,
       "version_minor": 0
      },
      "text/plain": [
       "  0%|          | 0/82 [00:00<?, ?it/s]"
      ]
     },
     "metadata": {},
     "output_type": "display_data"
    },
    {
     "name": "stdout",
     "output_type": "stream",
     "text": [
      "Epoch: 118 | Loss: 0.0557\n",
      "Epoch: 118 | Val Loss: 0.0812\n",
      "##########################################\n"
     ]
    },
    {
     "data": {
      "application/vnd.jupyter.widget-view+json": {
       "model_id": "066e3f9bf61144ecbbeaa6ebc0dd209c",
       "version_major": 2,
       "version_minor": 0
      },
      "text/plain": [
       "  0%|          | 0/82 [00:00<?, ?it/s]"
      ]
     },
     "metadata": {},
     "output_type": "display_data"
    },
    {
     "name": "stdout",
     "output_type": "stream",
     "text": [
      "Epoch: 119 | Loss: 0.0556\n",
      "Epoch: 119 | Val Loss: 0.0870\n",
      "##########################################\n"
     ]
    },
    {
     "data": {
      "application/vnd.jupyter.widget-view+json": {
       "model_id": "a8b8b0857c1847d7911955a068501495",
       "version_major": 2,
       "version_minor": 0
      },
      "text/plain": [
       "  0%|          | 0/82 [00:00<?, ?it/s]"
      ]
     },
     "metadata": {},
     "output_type": "display_data"
    },
    {
     "name": "stdout",
     "output_type": "stream",
     "text": [
      "Epoch: 120 | Loss: 0.0557\n",
      "Epoch: 120 | Val Loss: 0.0827\n",
      "##########################################\n"
     ]
    },
    {
     "data": {
      "application/vnd.jupyter.widget-view+json": {
       "model_id": "2f11ff3d04044b46b00a776936c43192",
       "version_major": 2,
       "version_minor": 0
      },
      "text/plain": [
       "  0%|          | 0/82 [00:00<?, ?it/s]"
      ]
     },
     "metadata": {},
     "output_type": "display_data"
    },
    {
     "name": "stdout",
     "output_type": "stream",
     "text": [
      "Epoch: 121 | Loss: 0.0559\n",
      "Epoch: 121 | Val Loss: 0.0839\n",
      "##########################################\n"
     ]
    },
    {
     "data": {
      "application/vnd.jupyter.widget-view+json": {
       "model_id": "f7787365d85a453297aec610efce4f1b",
       "version_major": 2,
       "version_minor": 0
      },
      "text/plain": [
       "  0%|          | 0/82 [00:00<?, ?it/s]"
      ]
     },
     "metadata": {},
     "output_type": "display_data"
    },
    {
     "name": "stdout",
     "output_type": "stream",
     "text": [
      "Epoch: 122 | Loss: 0.0555\n",
      "Epoch: 122 | Val Loss: 0.0793\n",
      "##########################################\n"
     ]
    },
    {
     "data": {
      "application/vnd.jupyter.widget-view+json": {
       "model_id": "aaaa92eb99e048d986345ef4f33e3234",
       "version_major": 2,
       "version_minor": 0
      },
      "text/plain": [
       "  0%|          | 0/82 [00:00<?, ?it/s]"
      ]
     },
     "metadata": {},
     "output_type": "display_data"
    },
    {
     "name": "stdout",
     "output_type": "stream",
     "text": [
      "Epoch: 123 | Loss: 0.0554\n",
      "Epoch: 123 | Val Loss: 0.0818\n",
      "##########################################\n"
     ]
    },
    {
     "data": {
      "application/vnd.jupyter.widget-view+json": {
       "model_id": "9c6e57c757864a16b63d43fa78894f91",
       "version_major": 2,
       "version_minor": 0
      },
      "text/plain": [
       "  0%|          | 0/82 [00:00<?, ?it/s]"
      ]
     },
     "metadata": {},
     "output_type": "display_data"
    },
    {
     "name": "stdout",
     "output_type": "stream",
     "text": [
      "Epoch: 124 | Loss: 0.0553\n",
      "Epoch: 124 | Val Loss: 0.0777\n",
      "##########################################\n"
     ]
    },
    {
     "data": {
      "application/vnd.jupyter.widget-view+json": {
       "model_id": "9e3ce32a5c754da5b1d87fb762322583",
       "version_major": 2,
       "version_minor": 0
      },
      "text/plain": [
       "  0%|          | 0/82 [00:00<?, ?it/s]"
      ]
     },
     "metadata": {},
     "output_type": "display_data"
    },
    {
     "name": "stdout",
     "output_type": "stream",
     "text": [
      "Epoch: 125 | Loss: 0.0551\n",
      "Epoch: 125 | Val Loss: 0.0790\n",
      "##########################################\n"
     ]
    },
    {
     "data": {
      "application/vnd.jupyter.widget-view+json": {
       "model_id": "6a0922a967df4391b77a57d1ccce715a",
       "version_major": 2,
       "version_minor": 0
      },
      "text/plain": [
       "  0%|          | 0/82 [00:00<?, ?it/s]"
      ]
     },
     "metadata": {},
     "output_type": "display_data"
    },
    {
     "name": "stdout",
     "output_type": "stream",
     "text": [
      "Epoch: 126 | Loss: 0.0552\n",
      "Epoch: 126 | Val Loss: 0.0791\n",
      "##########################################\n"
     ]
    },
    {
     "data": {
      "application/vnd.jupyter.widget-view+json": {
       "model_id": "5a7d4975a2c7450caea7fe9b46c1aec3",
       "version_major": 2,
       "version_minor": 0
      },
      "text/plain": [
       "  0%|          | 0/82 [00:00<?, ?it/s]"
      ]
     },
     "metadata": {},
     "output_type": "display_data"
    },
    {
     "name": "stdout",
     "output_type": "stream",
     "text": [
      "Epoch: 127 | Loss: 0.0554\n",
      "Epoch: 127 | Val Loss: 0.0777\n",
      "##########################################\n"
     ]
    },
    {
     "data": {
      "application/vnd.jupyter.widget-view+json": {
       "model_id": "2689cba6b1a64ff2807e8ce10c2f50ef",
       "version_major": 2,
       "version_minor": 0
      },
      "text/plain": [
       "  0%|          | 0/82 [00:00<?, ?it/s]"
      ]
     },
     "metadata": {},
     "output_type": "display_data"
    },
    {
     "name": "stdout",
     "output_type": "stream",
     "text": [
      "Epoch: 128 | Loss: 0.0554\n",
      "Epoch: 128 | Val Loss: 0.0792\n",
      "##########################################\n"
     ]
    }
   ],
   "source": [
    "### AutoEncoder Training ###\n",
    "pbar = tqdm(range(ae_epoch), desc=\"AE training\")\n",
    "train_loss_list = []\n",
    "test_loss_list = []\n",
    "for e in pbar:\n",
    "    ae_model.train()\n",
    "    train_running_loss = 0.0\n",
    "    for idx, batch in enumerate(tqdm(ae_train_loader)):\n",
    "        payload = batch\n",
    "        payload = payload.to(device)\n",
    "        output = ae_model(payload)\n",
    "        loss = criterion(output, payload)\n",
    "        optimizer.zero_grad()\n",
    "        loss.backward()\n",
    "        optimizer.step()\n",
    "        train_running_loss += loss.detach().item()\n",
    "        pbar.set_postfix(ae_epoch=f\"{e + 1} of {ae_epoch}\", loss=f\"{loss:.8f}\")\n",
    "    print('Epoch: %d | Loss: %.4f' \\\n",
    "      %(e + 1, train_running_loss/(idx+1))) \n",
    "    train_loss_list.append(float(train_running_loss/(idx+1)))\n",
    "    ae_model.eval()\n",
    "    val_loss = 0.0\n",
    "    for idx, batch in enumerate(ae_valid_loader):\n",
    "        payload = batch\n",
    "        payload = payload.to(device)\n",
    "        output = ae_model(payload)\n",
    "        loss = criterion(output, payload)\n",
    "        val_loss += loss.detach().item()\n",
    "    print('Epoch: %d | Val Loss: %.4f' \\\n",
    "      %(e + 1, val_loss/(idx+1))) \n",
    "    test_loss_list.append(val_loss/(idx+1))\n",
    "    print(\"##############\" * 3)"
   ]
  },
  {
   "cell_type": "code",
   "execution_count": 255,
   "id": "07651420",
   "metadata": {},
   "outputs": [
    {
     "data": {
      "image/png": "[encoded data removed]",
      "text/plain": [
       "<Figure size 432x288 with 1 Axes>"
      ]
     },
     "metadata": {
      "needs_background": "light"
     },
     "output_type": "display_data"
    },
    {
     "data": {
      "image/png": "[encoded data removed]",
      "text/plain": [
       "<Figure size 432x288 with 1 Axes>"
      ]
     },
     "metadata": {
      "needs_background": "light"
     },
     "output_type": "display_data"
    }
   ],
   "source": [
    "\n",
    "plt.plot(range(len(train_loss_list)), train_loss_list, color='black')\n",
    "plt.ylim(0.03, 0.1)\n",
    "plt.show()\n",
    "\n",
    "plt.plot(range(len(test_loss_list)), test_loss_list, color='black')\n",
    "plt.ylim((0.03, 0.1))\n",
    "plt.show()"
   ]
  },
  {
   "cell_type": "code",
   "execution_count": 240,
   "id": "576201ae",
   "metadata": {},
   "outputs": [],
   "source": [
    "ae_model.eval()\n",
    "dnn_model = DNN(ae_model, header_dims, input_dims, window_size).to(device)\n",
    "optimizer = torch.optim.Adam(dnn_model.parameters(), lr=lr)\n",
    "criterion = nn.BCELoss()"
   ]
  },
  {
   "cell_type": "code",
   "execution_count": 241,
   "id": "8bb8ebd6",
   "metadata": {
    "scrolled": true
   },
   "outputs": [
    {
     "data": {
      "application/vnd.jupyter.widget-view+json": {
       "model_id": "9924b1cb2e7a496aa6a09b47df0f4972",
       "version_major": 2,
       "version_minor": 0
      },
      "text/plain": [
       "DNN training:   0%|          | 0/128 [00:00<?, ?it/s]"
      ]
     },
     "metadata": {},
     "output_type": "display_data"
    },
    {
     "data": {
      "application/vnd.jupyter.widget-view+json": {
       "model_id": "52cfdd002a964de8a49f3549509498e9",
       "version_major": 2,
       "version_minor": 0
      },
      "text/plain": [
       "  0%|          | 0/98 [00:00<?, ?it/s]"
      ]
     },
     "metadata": {},
     "output_type": "display_data"
    },
    {
     "name": "stdout",
     "output_type": "stream",
     "text": [
      "Epoch: 1 | Accuracy: 0.5008 | Loss: 1.1380\n",
      "Epoch: 1 | Val Accuracy: 0.4962 |Val Loss: 0.6166\n",
      "##########################################\n"
     ]
    },
    {
     "data": {
      "application/vnd.jupyter.widget-view+json": {
       "model_id": "449ad9703dca4b488e5a3dbe07fcfd5b",
       "version_major": 2,
       "version_minor": 0
      },
      "text/plain": [
       "  0%|          | 0/98 [00:00<?, ?it/s]"
      ]
     },
     "metadata": {},
     "output_type": "display_data"
    },
    {
     "name": "stdout",
     "output_type": "stream",
     "text": [
      "Epoch: 2 | Accuracy: 0.5017 | Loss: 0.7489\n",
      "Epoch: 2 | Val Accuracy: 0.4962 |Val Loss: 0.5952\n",
      "##########################################\n"
     ]
    },
    {
     "data": {
      "application/vnd.jupyter.widget-view+json": {
       "model_id": "c5e3d8021eb14cabb856040adcaee3b1",
       "version_major": 2,
       "version_minor": 0
      },
      "text/plain": [
       "  0%|          | 0/98 [00:00<?, ?it/s]"
      ]
     },
     "metadata": {},
     "output_type": "display_data"
    },
    {
     "name": "stdout",
     "output_type": "stream",
     "text": [
      "Epoch: 3 | Accuracy: 0.5008 | Loss: 0.6130\n",
      "Epoch: 3 | Val Accuracy: 0.4962 |Val Loss: 0.5826\n",
      "##########################################\n"
     ]
    },
    {
     "data": {
      "application/vnd.jupyter.widget-view+json": {
       "model_id": "999f316e1c054ad58030d52e0b3fbf57",
       "version_major": 2,
       "version_minor": 0
      },
      "text/plain": [
       "  0%|          | 0/98 [00:00<?, ?it/s]"
      ]
     },
     "metadata": {},
     "output_type": "display_data"
    },
    {
     "name": "stdout",
     "output_type": "stream",
     "text": [
      "Epoch: 4 | Accuracy: 0.5011 | Loss: 0.7245\n",
      "Epoch: 4 | Val Accuracy: 0.4962 |Val Loss: 0.5748\n",
      "##########################################\n"
     ]
    },
    {
     "data": {
      "application/vnd.jupyter.widget-view+json": {
       "model_id": "a6adb78d8f4448e59a559177bc2830b3",
       "version_major": 2,
       "version_minor": 0
      },
      "text/plain": [
       "  0%|          | 0/98 [00:00<?, ?it/s]"
      ]
     },
     "metadata": {},
     "output_type": "display_data"
    },
    {
     "name": "stdout",
     "output_type": "stream",
     "text": [
      "Epoch: 5 | Accuracy: 0.5014 | Loss: 0.5838\n",
      "Epoch: 5 | Val Accuracy: 0.4962 |Val Loss: 0.5699\n",
      "##########################################\n"
     ]
    },
    {
     "data": {
      "application/vnd.jupyter.widget-view+json": {
       "model_id": "99b2137c80c24f978b95b43e0d71d446",
       "version_major": 2,
       "version_minor": 0
      },
      "text/plain": [
       "  0%|          | 0/98 [00:00<?, ?it/s]"
      ]
     },
     "metadata": {},
     "output_type": "display_data"
    },
    {
     "name": "stdout",
     "output_type": "stream",
     "text": [
      "Epoch: 6 | Accuracy: 0.5017 | Loss: 0.6069\n",
      "Epoch: 6 | Val Accuracy: 0.4962 |Val Loss: 0.5677\n",
      "##########################################\n"
     ]
    },
    {
     "data": {
      "application/vnd.jupyter.widget-view+json": {
       "model_id": "5ca3227da366410db0a2ad270be54274",
       "version_major": 2,
       "version_minor": 0
      },
      "text/plain": [
       "  0%|          | 0/98 [00:00<?, ?it/s]"
      ]
     },
     "metadata": {},
     "output_type": "display_data"
    },
    {
     "name": "stdout",
     "output_type": "stream",
     "text": [
      "Epoch: 7 | Accuracy: 0.5014 | Loss: 0.5857\n",
      "Epoch: 7 | Val Accuracy: 0.4962 |Val Loss: 0.5635\n",
      "##########################################\n"
     ]
    },
    {
     "data": {
      "application/vnd.jupyter.widget-view+json": {
       "model_id": "f7baa82377cf43ad8fabf802dcb036ba",
       "version_major": 2,
       "version_minor": 0
      },
      "text/plain": [
       "  0%|          | 0/98 [00:00<?, ?it/s]"
      ]
     },
     "metadata": {},
     "output_type": "display_data"
    },
    {
     "name": "stdout",
     "output_type": "stream",
     "text": [
      "Epoch: 8 | Accuracy: 0.5008 | Loss: 0.5688\n",
      "Epoch: 8 | Val Accuracy: 0.4962 |Val Loss: 0.5604\n",
      "##########################################\n"
     ]
    },
    {
     "data": {
      "application/vnd.jupyter.widget-view+json": {
       "model_id": "3f0080e2ab644c5d88007a730e205c2c",
       "version_major": 2,
       "version_minor": 0
      },
      "text/plain": [
       "  0%|          | 0/98 [00:00<?, ?it/s]"
      ]
     },
     "metadata": {},
     "output_type": "display_data"
    },
    {
     "name": "stdout",
     "output_type": "stream",
     "text": [
      "Epoch: 9 | Accuracy: 0.5008 | Loss: 0.5739\n",
      "Epoch: 9 | Val Accuracy: 0.4962 |Val Loss: 0.5577\n",
      "##########################################\n"
     ]
    },
    {
     "data": {
      "application/vnd.jupyter.widget-view+json": {
       "model_id": "71c0b5c1e1054b179f479b11361d7e5d",
       "version_major": 2,
       "version_minor": 0
      },
      "text/plain": [
       "  0%|          | 0/98 [00:00<?, ?it/s]"
      ]
     },
     "metadata": {},
     "output_type": "display_data"
    },
    {
     "name": "stdout",
     "output_type": "stream",
     "text": [
      "Epoch: 10 | Accuracy: 0.5005 | Loss: 0.5711\n",
      "Epoch: 10 | Val Accuracy: 0.4962 |Val Loss: 0.5556\n",
      "##########################################\n"
     ]
    },
    {
     "data": {
      "application/vnd.jupyter.widget-view+json": {
       "model_id": "b28655f199364eaa9c5088da6bd9e7e1",
       "version_major": 2,
       "version_minor": 0
      },
      "text/plain": [
       "  0%|          | 0/98 [00:00<?, ?it/s]"
      ]
     },
     "metadata": {},
     "output_type": "display_data"
    },
    {
     "name": "stdout",
     "output_type": "stream",
     "text": [
      "Epoch: 11 | Accuracy: 0.5005 | Loss: 0.5635\n",
      "Epoch: 11 | Val Accuracy: 0.4962 |Val Loss: 0.5532\n",
      "##########################################\n"
     ]
    },
    {
     "data": {
      "application/vnd.jupyter.widget-view+json": {
       "model_id": "5aa686c6d280410ca8eda83697b32676",
       "version_major": 2,
       "version_minor": 0
      },
      "text/plain": [
       "  0%|          | 0/98 [00:00<?, ?it/s]"
      ]
     },
     "metadata": {},
     "output_type": "display_data"
    },
    {
     "name": "stdout",
     "output_type": "stream",
     "text": [
      "Epoch: 12 | Accuracy: 0.5008 | Loss: 0.5602\n",
      "Epoch: 12 | Val Accuracy: 0.4962 |Val Loss: 0.5496\n",
      "##########################################\n"
     ]
    },
    {
     "data": {
      "application/vnd.jupyter.widget-view+json": {
       "model_id": "f9748ecc79d4417f9a1ef869eb153d4c",
       "version_major": 2,
       "version_minor": 0
      },
      "text/plain": [
       "  0%|          | 0/98 [00:00<?, ?it/s]"
      ]
     },
     "metadata": {},
     "output_type": "display_data"
    },
    {
     "name": "stdout",
     "output_type": "stream",
     "text": [
      "Epoch: 13 | Accuracy: 0.5020 | Loss: 0.5587\n",
      "Epoch: 13 | Val Accuracy: 0.4962 |Val Loss: 0.5396\n",
      "##########################################\n"
     ]
    },
    {
     "data": {
      "application/vnd.jupyter.widget-view+json": {
       "model_id": "7bc768c573ce402e9eaac55781b36eb5",
       "version_major": 2,
       "version_minor": 0
      },
      "text/plain": [
       "  0%|          | 0/98 [00:00<?, ?it/s]"
      ]
     },
     "metadata": {},
     "output_type": "display_data"
    },
    {
     "name": "stdout",
     "output_type": "stream",
     "text": [
      "Epoch: 14 | Accuracy: 0.5881 | Loss: 0.5388\n",
      "Epoch: 14 | Val Accuracy: 0.7405 |Val Loss: 0.5187\n",
      "##########################################\n"
     ]
    },
    {
     "data": {
      "application/vnd.jupyter.widget-view+json": {
       "model_id": "ddcb6f0639b9422e9ab2d1887229e4de",
       "version_major": 2,
       "version_minor": 0
      },
      "text/plain": [
       "  0%|          | 0/98 [00:00<?, ?it/s]"
      ]
     },
     "metadata": {},
     "output_type": "display_data"
    },
    {
     "name": "stdout",
     "output_type": "stream",
     "text": [
      "Epoch: 15 | Accuracy: 0.7150 | Loss: 0.5237\n",
      "Epoch: 15 | Val Accuracy: 0.7367 |Val Loss: 0.5001\n",
      "##########################################\n"
     ]
    },
    {
     "data": {
      "application/vnd.jupyter.widget-view+json": {
       "model_id": "b2fcdf50078b4b5a83f2819a206f361c",
       "version_major": 2,
       "version_minor": 0
      },
      "text/plain": [
       "  0%|          | 0/98 [00:00<?, ?it/s]"
      ]
     },
     "metadata": {},
     "output_type": "display_data"
    },
    {
     "name": "stdout",
     "output_type": "stream",
     "text": [
      "Epoch: 16 | Accuracy: 0.7255 | Loss: 0.5116\n",
      "Epoch: 16 | Val Accuracy: 0.7386 |Val Loss: 0.4959\n",
      "##########################################\n"
     ]
    },
    {
     "data": {
      "application/vnd.jupyter.widget-view+json": {
       "model_id": "5706b04dadc24735a14808d7e26c6009",
       "version_major": 2,
       "version_minor": 0
      },
      "text/plain": [
       "  0%|          | 0/98 [00:00<?, ?it/s]"
      ]
     },
     "metadata": {},
     "output_type": "display_data"
    },
    {
     "name": "stdout",
     "output_type": "stream",
     "text": [
      "Epoch: 17 | Accuracy: 0.7277 | Loss: 0.5082\n",
      "Epoch: 17 | Val Accuracy: 0.7386 |Val Loss: 0.4966\n",
      "##########################################\n"
     ]
    },
    {
     "data": {
      "application/vnd.jupyter.widget-view+json": {
       "model_id": "010f851d66814320adb4aebb80dc10f4",
       "version_major": 2,
       "version_minor": 0
      },
      "text/plain": [
       "  0%|          | 0/98 [00:00<?, ?it/s]"
      ]
     },
     "metadata": {},
     "output_type": "display_data"
    },
    {
     "name": "stdout",
     "output_type": "stream",
     "text": [
      "Epoch: 18 | Accuracy: 0.7275 | Loss: 0.5080\n",
      "Epoch: 18 | Val Accuracy: 0.7405 |Val Loss: 0.4938\n",
      "##########################################\n"
     ]
    },
    {
     "data": {
      "application/vnd.jupyter.widget-view+json": {
       "model_id": "5aaf7ee70a304c30804648f7d38b1f8f",
       "version_major": 2,
       "version_minor": 0
      },
      "text/plain": [
       "  0%|          | 0/98 [00:00<?, ?it/s]"
      ]
     },
     "metadata": {},
     "output_type": "display_data"
    },
    {
     "name": "stdout",
     "output_type": "stream",
     "text": [
      "Epoch: 19 | Accuracy: 0.7313 | Loss: 0.4995\n",
      "Epoch: 19 | Val Accuracy: 0.7386 |Val Loss: 0.4924\n",
      "##########################################\n"
     ]
    },
    {
     "data": {
      "application/vnd.jupyter.widget-view+json": {
       "model_id": "792fa93016914d618df138e7ada4e0fd",
       "version_major": 2,
       "version_minor": 0
      },
      "text/plain": [
       "  0%|          | 0/98 [00:00<?, ?it/s]"
      ]
     },
     "metadata": {},
     "output_type": "display_data"
    },
    {
     "name": "stdout",
     "output_type": "stream",
     "text": [
      "Epoch: 20 | Accuracy: 0.7361 | Loss: 0.5010\n",
      "Epoch: 20 | Val Accuracy: 0.7348 |Val Loss: 0.4944\n",
      "##########################################\n"
     ]
    },
    {
     "data": {
      "application/vnd.jupyter.widget-view+json": {
       "model_id": "e4b66ea442ac45d0bd3cbc90d7c22349",
       "version_major": 2,
       "version_minor": 0
      },
      "text/plain": [
       "  0%|          | 0/98 [00:00<?, ?it/s]"
      ]
     },
     "metadata": {},
     "output_type": "display_data"
    },
    {
     "name": "stdout",
     "output_type": "stream",
     "text": [
      "Epoch: 21 | Accuracy: 0.7596 | Loss: 0.4783\n",
      "Epoch: 21 | Val Accuracy: 0.7261 |Val Loss: 0.5162\n",
      "##########################################\n"
     ]
    },
    {
     "data": {
      "application/vnd.jupyter.widget-view+json": {
       "model_id": "c586d56a137d4cb9aaa7dc49bd6e748a",
       "version_major": 2,
       "version_minor": 0
      },
      "text/plain": [
       "  0%|          | 0/98 [00:00<?, ?it/s]"
      ]
     },
     "metadata": {},
     "output_type": "display_data"
    },
    {
     "name": "stdout",
     "output_type": "stream",
     "text": [
      "Epoch: 22 | Accuracy: 0.8288 | Loss: 0.3975\n",
      "Epoch: 22 | Val Accuracy: 0.7659 |Val Loss: 0.5612\n",
      "##########################################\n"
     ]
    },
    {
     "data": {
      "application/vnd.jupyter.widget-view+json": {
       "model_id": "fe98a1ba37aa476886db9eabc15a28ee",
       "version_major": 2,
       "version_minor": 0
      },
      "text/plain": [
       "  0%|          | 0/98 [00:00<?, ?it/s]"
      ]
     },
     "metadata": {},
     "output_type": "display_data"
    },
    {
     "name": "stdout",
     "output_type": "stream",
     "text": [
      "Epoch: 23 | Accuracy: 0.9241 | Loss: 0.2304\n",
      "Epoch: 23 | Val Accuracy: 0.8076 |Val Loss: 0.4640\n",
      "##########################################\n"
     ]
    },
    {
     "data": {
      "application/vnd.jupyter.widget-view+json": {
       "model_id": "df434762907b44f4b5ad27e448a7cdd5",
       "version_major": 2,
       "version_minor": 0
      },
      "text/plain": [
       "  0%|          | 0/98 [00:00<?, ?it/s]"
      ]
     },
     "metadata": {},
     "output_type": "display_data"
    },
    {
     "name": "stdout",
     "output_type": "stream",
     "text": [
      "Epoch: 24 | Accuracy: 0.9710 | Loss: 0.1056\n",
      "Epoch: 24 | Val Accuracy: 0.8197 |Val Loss: 0.4591\n",
      "##########################################\n"
     ]
    },
    {
     "data": {
      "application/vnd.jupyter.widget-view+json": {
       "model_id": "4a758adb8b1544699a465d10268d7ee0",
       "version_major": 2,
       "version_minor": 0
      },
      "text/plain": [
       "  0%|          | 0/98 [00:00<?, ?it/s]"
      ]
     },
     "metadata": {},
     "output_type": "display_data"
    },
    {
     "name": "stdout",
     "output_type": "stream",
     "text": [
      "Epoch: 25 | Accuracy: 0.9790 | Loss: 0.0768\n",
      "Epoch: 25 | Val Accuracy: 0.8197 |Val Loss: 0.5531\n",
      "##########################################\n"
     ]
    },
    {
     "data": {
      "application/vnd.jupyter.widget-view+json": {
       "model_id": "295a340871864f0fa015a445fbc8d8e2",
       "version_major": 2,
       "version_minor": 0
      },
      "text/plain": [
       "  0%|          | 0/98 [00:00<?, ?it/s]"
      ]
     },
     "metadata": {},
     "output_type": "display_data"
    },
    {
     "name": "stdout",
     "output_type": "stream",
     "text": [
      "Epoch: 26 | Accuracy: 0.9850 | Loss: 0.0490\n",
      "Epoch: 26 | Val Accuracy: 0.8254 |Val Loss: 0.5681\n",
      "##########################################\n"
     ]
    },
    {
     "data": {
      "application/vnd.jupyter.widget-view+json": {
       "model_id": "1e362cef31144e139be4f2826b374b1b",
       "version_major": 2,
       "version_minor": 0
      },
      "text/plain": [
       "  0%|          | 0/98 [00:00<?, ?it/s]"
      ]
     },
     "metadata": {},
     "output_type": "display_data"
    },
    {
     "name": "stdout",
     "output_type": "stream",
     "text": [
      "Epoch: 27 | Accuracy: 0.9853 | Loss: 0.0517\n",
      "Epoch: 27 | Val Accuracy: 0.8311 |Val Loss: 0.5397\n",
      "##########################################\n"
     ]
    },
    {
     "data": {
      "application/vnd.jupyter.widget-view+json": {
       "model_id": "c8de0b60b27046689af1e66c6e626ff8",
       "version_major": 2,
       "version_minor": 0
      },
      "text/plain": [
       "  0%|          | 0/98 [00:00<?, ?it/s]"
      ]
     },
     "metadata": {},
     "output_type": "display_data"
    },
    {
     "name": "stdout",
     "output_type": "stream",
     "text": [
      "Epoch: 28 | Accuracy: 0.9930 | Loss: 0.0260\n",
      "Epoch: 28 | Val Accuracy: 0.8311 |Val Loss: 0.5980\n",
      "##########################################\n"
     ]
    },
    {
     "data": {
      "application/vnd.jupyter.widget-view+json": {
       "model_id": "ab8487318e0243988fd8da8f4a229e6a",
       "version_major": 2,
       "version_minor": 0
      },
      "text/plain": [
       "  0%|          | 0/98 [00:00<?, ?it/s]"
      ]
     },
     "metadata": {},
     "output_type": "display_data"
    },
    {
     "name": "stdout",
     "output_type": "stream",
     "text": [
      "Epoch: 29 | Accuracy: 0.9917 | Loss: 0.0283\n",
      "Epoch: 29 | Val Accuracy: 0.8254 |Val Loss: 0.6027\n",
      "##########################################\n"
     ]
    },
    {
     "data": {
      "application/vnd.jupyter.widget-view+json": {
       "model_id": "32e403223a654b72b4eb32b7b46e2991",
       "version_major": 2,
       "version_minor": 0
      },
      "text/plain": [
       "  0%|          | 0/98 [00:00<?, ?it/s]"
      ]
     },
     "metadata": {},
     "output_type": "display_data"
    },
    {
     "name": "stdout",
     "output_type": "stream",
     "text": [
      "Epoch: 30 | Accuracy: 0.9860 | Loss: 0.0441\n",
      "Epoch: 30 | Val Accuracy: 0.8216 |Val Loss: 0.5849\n",
      "##########################################\n"
     ]
    },
    {
     "data": {
      "application/vnd.jupyter.widget-view+json": {
       "model_id": "ff5ca747015a41789fb71e523adacbfb",
       "version_major": 2,
       "version_minor": 0
      },
      "text/plain": [
       "  0%|          | 0/98 [00:00<?, ?it/s]"
      ]
     },
     "metadata": {},
     "output_type": "display_data"
    },
    {
     "name": "stdout",
     "output_type": "stream",
     "text": [
      "Epoch: 31 | Accuracy: 0.9949 | Loss: 0.0164\n",
      "Epoch: 31 | Val Accuracy: 0.8159 |Val Loss: 0.5771\n",
      "##########################################\n"
     ]
    },
    {
     "data": {
      "application/vnd.jupyter.widget-view+json": {
       "model_id": "22a918cddabc4800ab7f743dbf29b88b",
       "version_major": 2,
       "version_minor": 0
      },
      "text/plain": [
       "  0%|          | 0/98 [00:00<?, ?it/s]"
      ]
     },
     "metadata": {},
     "output_type": "display_data"
    },
    {
     "name": "stdout",
     "output_type": "stream",
     "text": [
      "Epoch: 32 | Accuracy: 0.9905 | Loss: 0.0234\n",
      "Epoch: 32 | Val Accuracy: 0.8121 |Val Loss: 0.6366\n",
      "##########################################\n"
     ]
    },
    {
     "data": {
      "application/vnd.jupyter.widget-view+json": {
       "model_id": "765c309a34e640c2a392f7c532bf216b",
       "version_major": 2,
       "version_minor": 0
      },
      "text/plain": [
       "  0%|          | 0/98 [00:00<?, ?it/s]"
      ]
     },
     "metadata": {},
     "output_type": "display_data"
    },
    {
     "name": "stdout",
     "output_type": "stream",
     "text": [
      "Epoch: 33 | Accuracy: 0.9917 | Loss: 0.0233\n",
      "Epoch: 33 | Val Accuracy: 0.8273 |Val Loss: 0.6945\n",
      "##########################################\n"
     ]
    },
    {
     "data": {
      "application/vnd.jupyter.widget-view+json": {
       "model_id": "074f59c3b1364883a5fb1ddbaafabf94",
       "version_major": 2,
       "version_minor": 0
      },
      "text/plain": [
       "  0%|          | 0/98 [00:00<?, ?it/s]"
      ]
     },
     "metadata": {},
     "output_type": "display_data"
    },
    {
     "name": "stdout",
     "output_type": "stream",
     "text": [
      "Epoch: 34 | Accuracy: 0.9892 | Loss: 0.0312\n",
      "Epoch: 34 | Val Accuracy: 0.8216 |Val Loss: 0.6551\n",
      "##########################################\n"
     ]
    },
    {
     "data": {
      "application/vnd.jupyter.widget-view+json": {
       "model_id": "9b83db53f8024824af263c90e18b50cc",
       "version_major": 2,
       "version_minor": 0
      },
      "text/plain": [
       "  0%|          | 0/98 [00:00<?, ?it/s]"
      ]
     },
     "metadata": {},
     "output_type": "display_data"
    },
    {
     "name": "stdout",
     "output_type": "stream",
     "text": [
      "Epoch: 35 | Accuracy: 0.9962 | Loss: 0.0145\n",
      "Epoch: 35 | Val Accuracy: 0.8140 |Val Loss: 0.6725\n",
      "##########################################\n"
     ]
    },
    {
     "data": {
      "application/vnd.jupyter.widget-view+json": {
       "model_id": "418932e6bcb741efade54a1f1cadb37d",
       "version_major": 2,
       "version_minor": 0
      },
      "text/plain": [
       "  0%|          | 0/98 [00:00<?, ?it/s]"
      ]
     },
     "metadata": {},
     "output_type": "display_data"
    },
    {
     "name": "stdout",
     "output_type": "stream",
     "text": [
      "Epoch: 36 | Accuracy: 0.9911 | Loss: 0.0235\n",
      "Epoch: 36 | Val Accuracy: 0.8159 |Val Loss: 0.6459\n",
      "##########################################\n"
     ]
    },
    {
     "data": {
      "application/vnd.jupyter.widget-view+json": {
       "model_id": "e878cb86cfeb47eeb6024aebbb10da2e",
       "version_major": 2,
       "version_minor": 0
      },
      "text/plain": [
       "  0%|          | 0/98 [00:00<?, ?it/s]"
      ]
     },
     "metadata": {},
     "output_type": "display_data"
    },
    {
     "name": "stdout",
     "output_type": "stream",
     "text": [
      "Epoch: 37 | Accuracy: 0.9923 | Loss: 0.0311\n",
      "Epoch: 37 | Val Accuracy: 0.8311 |Val Loss: 0.5982\n",
      "##########################################\n"
     ]
    },
    {
     "data": {
      "application/vnd.jupyter.widget-view+json": {
       "model_id": "e063da1fbe3b4ea8aba01697d6857c51",
       "version_major": 2,
       "version_minor": 0
      },
      "text/plain": [
       "  0%|          | 0/98 [00:00<?, ?it/s]"
      ]
     },
     "metadata": {},
     "output_type": "display_data"
    },
    {
     "name": "stdout",
     "output_type": "stream",
     "text": [
      "Epoch: 38 | Accuracy: 0.9936 | Loss: 0.0241\n",
      "Epoch: 38 | Val Accuracy: 0.8322 |Val Loss: 0.5570\n",
      "##########################################\n"
     ]
    },
    {
     "data": {
      "application/vnd.jupyter.widget-view+json": {
       "model_id": "a79e2efeb4a04f1b92e62e573d3f4b61",
       "version_major": 2,
       "version_minor": 0
      },
      "text/plain": [
       "  0%|          | 0/98 [00:00<?, ?it/s]"
      ]
     },
     "metadata": {},
     "output_type": "display_data"
    },
    {
     "name": "stdout",
     "output_type": "stream",
     "text": [
      "Epoch: 39 | Accuracy: 0.9952 | Loss: 0.0805\n",
      "Epoch: 39 | Val Accuracy: 0.8330 |Val Loss: 0.5926\n",
      "##########################################\n"
     ]
    },
    {
     "data": {
      "application/vnd.jupyter.widget-view+json": {
       "model_id": "87243d2bb9f14005a45f2f995706bf90",
       "version_major": 2,
       "version_minor": 0
      },
      "text/plain": [
       "  0%|          | 0/98 [00:00<?, ?it/s]"
      ]
     },
     "metadata": {},
     "output_type": "display_data"
    },
    {
     "name": "stdout",
     "output_type": "stream",
     "text": [
      "Epoch: 40 | Accuracy: 0.9974 | Loss: 0.0117\n",
      "Epoch: 40 | Val Accuracy: 0.8121 |Val Loss: 0.7894\n",
      "##########################################\n"
     ]
    },
    {
     "data": {
      "application/vnd.jupyter.widget-view+json": {
       "model_id": "bf18ee6f84984d40a55539e84a06a6b4",
       "version_major": 2,
       "version_minor": 0
      },
      "text/plain": [
       "  0%|          | 0/98 [00:00<?, ?it/s]"
      ]
     },
     "metadata": {},
     "output_type": "display_data"
    },
    {
     "name": "stdout",
     "output_type": "stream",
     "text": [
      "Epoch: 41 | Accuracy: 0.9949 | Loss: 0.0143\n",
      "Epoch: 41 | Val Accuracy: 0.8398 |Val Loss: 0.5685\n",
      "##########################################\n"
     ]
    },
    {
     "data": {
      "application/vnd.jupyter.widget-view+json": {
       "model_id": "ab027a8714ad414bbe30b4481cde30f1",
       "version_major": 2,
       "version_minor": 0
      },
      "text/plain": [
       "  0%|          | 0/98 [00:00<?, ?it/s]"
      ]
     },
     "metadata": {},
     "output_type": "display_data"
    },
    {
     "name": "stdout",
     "output_type": "stream",
     "text": [
      "Epoch: 42 | Accuracy: 0.9981 | Loss: 0.0092\n",
      "Epoch: 42 | Val Accuracy: 0.8311 |Val Loss: 0.6486\n",
      "##########################################\n"
     ]
    },
    {
     "data": {
      "application/vnd.jupyter.widget-view+json": {
       "model_id": "44da69d985aa43d7b5102cbc5cd093e6",
       "version_major": 2,
       "version_minor": 0
      },
      "text/plain": [
       "  0%|          | 0/98 [00:00<?, ?it/s]"
      ]
     },
     "metadata": {},
     "output_type": "display_data"
    },
    {
     "name": "stdout",
     "output_type": "stream",
     "text": [
      "Epoch: 43 | Accuracy: 0.9987 | Loss: 0.0049\n",
      "Epoch: 43 | Val Accuracy: 0.8341 |Val Loss: 0.5897\n",
      "##########################################\n"
     ]
    },
    {
     "data": {
      "application/vnd.jupyter.widget-view+json": {
       "model_id": "2729d1a72de24e019d48a5604b62309d",
       "version_major": 2,
       "version_minor": 0
      },
      "text/plain": [
       "  0%|          | 0/98 [00:00<?, ?it/s]"
      ]
     },
     "metadata": {},
     "output_type": "display_data"
    },
    {
     "name": "stdout",
     "output_type": "stream",
     "text": [
      "Epoch: 44 | Accuracy: 0.9923 | Loss: 0.0230\n",
      "Epoch: 44 | Val Accuracy: 0.8178 |Val Loss: 0.8253\n",
      "##########################################\n"
     ]
    },
    {
     "data": {
      "application/vnd.jupyter.widget-view+json": {
       "model_id": "2fe879de4e9a439da0e72532f07e9540",
       "version_major": 2,
       "version_minor": 0
      },
      "text/plain": [
       "  0%|          | 0/98 [00:00<?, ?it/s]"
      ]
     },
     "metadata": {},
     "output_type": "display_data"
    },
    {
     "name": "stdout",
     "output_type": "stream",
     "text": [
      "Epoch: 45 | Accuracy: 0.9904 | Loss: 0.0246\n",
      "Epoch: 45 | Val Accuracy: 0.8102 |Val Loss: 0.7612\n",
      "##########################################\n"
     ]
    },
    {
     "data": {
      "application/vnd.jupyter.widget-view+json": {
       "model_id": "cf90e8dc2fbb4671ac24f9d9b9031c14",
       "version_major": 2,
       "version_minor": 0
      },
      "text/plain": [
       "  0%|          | 0/98 [00:00<?, ?it/s]"
      ]
     },
     "metadata": {},
     "output_type": "display_data"
    },
    {
     "name": "stdout",
     "output_type": "stream",
     "text": [
      "Epoch: 46 | Accuracy: 0.9904 | Loss: 0.0354\n",
      "Epoch: 46 | Val Accuracy: 0.8102 |Val Loss: 0.8463\n",
      "##########################################\n"
     ]
    },
    {
     "data": {
      "application/vnd.jupyter.widget-view+json": {
       "model_id": "5ab9618b379a442d99a258ab08327d52",
       "version_major": 2,
       "version_minor": 0
      },
      "text/plain": [
       "  0%|          | 0/98 [00:00<?, ?it/s]"
      ]
     },
     "metadata": {},
     "output_type": "display_data"
    },
    {
     "name": "stdout",
     "output_type": "stream",
     "text": [
      "Epoch: 47 | Accuracy: 0.9949 | Loss: 0.0199\n",
      "Epoch: 47 | Val Accuracy: 0.8197 |Val Loss: 0.7938\n",
      "##########################################\n"
     ]
    },
    {
     "data": {
      "application/vnd.jupyter.widget-view+json": {
       "model_id": "147a87f2dd1f4a42b54546193da2aec1",
       "version_major": 2,
       "version_minor": 0
      },
      "text/plain": [
       "  0%|          | 0/98 [00:00<?, ?it/s]"
      ]
     },
     "metadata": {},
     "output_type": "display_data"
    },
    {
     "name": "stdout",
     "output_type": "stream",
     "text": [
      "Epoch: 48 | Accuracy: 0.9949 | Loss: 0.0137\n",
      "Epoch: 48 | Val Accuracy: 0.8083 |Val Loss: 0.7592\n",
      "##########################################\n"
     ]
    },
    {
     "data": {
      "application/vnd.jupyter.widget-view+json": {
       "model_id": "fd3207279ac047baa6f982c46826d4d7",
       "version_major": 2,
       "version_minor": 0
      },
      "text/plain": [
       "  0%|          | 0/98 [00:00<?, ?it/s]"
      ]
     },
     "metadata": {},
     "output_type": "display_data"
    },
    {
     "name": "stdout",
     "output_type": "stream",
     "text": [
      "Epoch: 49 | Accuracy: 0.9917 | Loss: 0.0185\n",
      "Epoch: 49 | Val Accuracy: 0.8159 |Val Loss: 0.7204\n",
      "##########################################\n"
     ]
    },
    {
     "data": {
      "application/vnd.jupyter.widget-view+json": {
       "model_id": "cf6cd6244646440b87d473ede13592de",
       "version_major": 2,
       "version_minor": 0
      },
      "text/plain": [
       "  0%|          | 0/98 [00:00<?, ?it/s]"
      ]
     },
     "metadata": {},
     "output_type": "display_data"
    },
    {
     "name": "stdout",
     "output_type": "stream",
     "text": [
      "Epoch: 50 | Accuracy: 0.9968 | Loss: 0.0123\n",
      "Epoch: 50 | Val Accuracy: 0.8140 |Val Loss: 0.9232\n",
      "##########################################\n"
     ]
    },
    {
     "data": {
      "application/vnd.jupyter.widget-view+json": {
       "model_id": "fb20ed64fe384fa7a1e0dd09e105144d",
       "version_major": 2,
       "version_minor": 0
      },
      "text/plain": [
       "  0%|          | 0/98 [00:00<?, ?it/s]"
      ]
     },
     "metadata": {},
     "output_type": "display_data"
    },
    {
     "name": "stdout",
     "output_type": "stream",
     "text": [
      "Epoch: 51 | Accuracy: 0.9924 | Loss: 0.0241\n",
      "Epoch: 51 | Val Accuracy: 0.8216 |Val Loss: 0.7359\n",
      "##########################################\n"
     ]
    },
    {
     "data": {
      "application/vnd.jupyter.widget-view+json": {
       "model_id": "05db411506be458b8180df1a9a1e7f53",
       "version_major": 2,
       "version_minor": 0
      },
      "text/plain": [
       "  0%|          | 0/98 [00:00<?, ?it/s]"
      ]
     },
     "metadata": {},
     "output_type": "display_data"
    },
    {
     "name": "stdout",
     "output_type": "stream",
     "text": [
      "Epoch: 52 | Accuracy: 0.9968 | Loss: 0.0099\n",
      "Epoch: 52 | Val Accuracy: 0.8216 |Val Loss: 0.6696\n",
      "##########################################\n"
     ]
    },
    {
     "data": {
      "application/vnd.jupyter.widget-view+json": {
       "model_id": "4460b21058bd4013830d9614ed83b9c3",
       "version_major": 2,
       "version_minor": 0
      },
      "text/plain": [
       "  0%|          | 0/98 [00:00<?, ?it/s]"
      ]
     },
     "metadata": {},
     "output_type": "display_data"
    },
    {
     "name": "stdout",
     "output_type": "stream",
     "text": [
      "Epoch: 53 | Accuracy: 0.9955 | Loss: 0.0167\n",
      "Epoch: 53 | Val Accuracy: 0.8322 |Val Loss: 0.5854\n",
      "##########################################\n"
     ]
    },
    {
     "data": {
      "application/vnd.jupyter.widget-view+json": {
       "model_id": "d9f3a88cc54f41009dc984785792d084",
       "version_major": 2,
       "version_minor": 0
      },
      "text/plain": [
       "  0%|          | 0/98 [00:00<?, ?it/s]"
      ]
     },
     "metadata": {},
     "output_type": "display_data"
    },
    {
     "name": "stdout",
     "output_type": "stream",
     "text": [
      "Epoch: 54 | Accuracy: 0.9968 | Loss: 0.0098\n",
      "Epoch: 54 | Val Accuracy: 0.8246 |Val Loss: 0.5685\n",
      "##########################################\n"
     ]
    },
    {
     "data": {
      "application/vnd.jupyter.widget-view+json": {
       "model_id": "0daddcac6bb04bb3859be67f7aabd25f",
       "version_major": 2,
       "version_minor": 0
      },
      "text/plain": [
       "  0%|          | 0/98 [00:00<?, ?it/s]"
      ]
     },
     "metadata": {},
     "output_type": "display_data"
    },
    {
     "name": "stdout",
     "output_type": "stream",
     "text": [
      "Epoch: 55 | Accuracy: 0.9968 | Loss: 0.0089\n",
      "Epoch: 55 | Val Accuracy: 0.8178 |Val Loss: 0.6292\n",
      "##########################################\n"
     ]
    },
    {
     "data": {
      "application/vnd.jupyter.widget-view+json": {
       "model_id": "c577594ee4d8460ca7f51cb3440ffe40",
       "version_major": 2,
       "version_minor": 0
      },
      "text/plain": [
       "  0%|          | 0/98 [00:00<?, ?it/s]"
      ]
     },
     "metadata": {},
     "output_type": "display_data"
    },
    {
     "name": "stdout",
     "output_type": "stream",
     "text": [
      "Epoch: 56 | Accuracy: 0.9987 | Loss: 0.0050\n",
      "Epoch: 56 | Val Accuracy: 0.8197 |Val Loss: 0.6515\n",
      "##########################################\n"
     ]
    },
    {
     "data": {
      "application/vnd.jupyter.widget-view+json": {
       "model_id": "d41ac7c888ce42adac5e3c5b934bdc92",
       "version_major": 2,
       "version_minor": 0
      },
      "text/plain": [
       "  0%|          | 0/98 [00:00<?, ?it/s]"
      ]
     },
     "metadata": {},
     "output_type": "display_data"
    },
    {
     "name": "stdout",
     "output_type": "stream",
     "text": [
      "Epoch: 57 | Accuracy: 0.9994 | Loss: 0.0028\n",
      "Epoch: 57 | Val Accuracy: 0.8311 |Val Loss: 0.8034\n",
      "##########################################\n"
     ]
    },
    {
     "data": {
      "application/vnd.jupyter.widget-view+json": {
       "model_id": "d49e888c1c2746399a1a4067e91a6540",
       "version_major": 2,
       "version_minor": 0
      },
      "text/plain": [
       "  0%|          | 0/98 [00:00<?, ?it/s]"
      ]
     },
     "metadata": {},
     "output_type": "display_data"
    },
    {
     "name": "stdout",
     "output_type": "stream",
     "text": [
      "Epoch: 58 | Accuracy: 0.9946 | Loss: 0.0105\n",
      "Epoch: 58 | Val Accuracy: 0.8292 |Val Loss: 0.7655\n",
      "##########################################\n"
     ]
    },
    {
     "data": {
      "application/vnd.jupyter.widget-view+json": {
       "model_id": "248c6680eb1f475795f8b5925f78a976",
       "version_major": 2,
       "version_minor": 0
      },
      "text/plain": [
       "  0%|          | 0/98 [00:00<?, ?it/s]"
      ]
     },
     "metadata": {},
     "output_type": "display_data"
    },
    {
     "name": "stdout",
     "output_type": "stream",
     "text": [
      "Epoch: 59 | Accuracy: 0.9981 | Loss: 0.0068\n",
      "Epoch: 59 | Val Accuracy: 0.8405 |Val Loss: 0.6359\n",
      "##########################################\n"
     ]
    },
    {
     "data": {
      "application/vnd.jupyter.widget-view+json": {
       "model_id": "3e6518ba2d314c9e8edcbb23555c6340",
       "version_major": 2,
       "version_minor": 0
      },
      "text/plain": [
       "  0%|          | 0/98 [00:00<?, ?it/s]"
      ]
     },
     "metadata": {},
     "output_type": "display_data"
    },
    {
     "name": "stdout",
     "output_type": "stream",
     "text": [
      "Epoch: 60 | Accuracy: 0.9955 | Loss: 0.0109\n",
      "Epoch: 60 | Val Accuracy: 0.8254 |Val Loss: 0.6133\n",
      "##########################################\n"
     ]
    },
    {
     "data": {
      "application/vnd.jupyter.widget-view+json": {
       "model_id": "684fd660f5604f1e88dd7d9f10b61d13",
       "version_major": 2,
       "version_minor": 0
      },
      "text/plain": [
       "  0%|          | 0/98 [00:00<?, ?it/s]"
      ]
     },
     "metadata": {},
     "output_type": "display_data"
    },
    {
     "name": "stdout",
     "output_type": "stream",
     "text": [
      "Epoch: 61 | Accuracy: 0.9968 | Loss: 0.0079\n",
      "Epoch: 61 | Val Accuracy: 0.8303 |Val Loss: 0.5780\n",
      "##########################################\n"
     ]
    },
    {
     "data": {
      "application/vnd.jupyter.widget-view+json": {
       "model_id": "fc86c7216da447c99d8f6bc9e47fd07d",
       "version_major": 2,
       "version_minor": 0
      },
      "text/plain": [
       "  0%|          | 0/98 [00:00<?, ?it/s]"
      ]
     },
     "metadata": {},
     "output_type": "display_data"
    },
    {
     "name": "stdout",
     "output_type": "stream",
     "text": [
      "Epoch: 62 | Accuracy: 0.9949 | Loss: 0.0161\n",
      "Epoch: 62 | Val Accuracy: 0.8341 |Val Loss: 0.5916\n",
      "##########################################\n"
     ]
    },
    {
     "data": {
      "application/vnd.jupyter.widget-view+json": {
       "model_id": "16a84f0e3e4a49099402d02a85c385df",
       "version_major": 2,
       "version_minor": 0
      },
      "text/plain": [
       "  0%|          | 0/98 [00:00<?, ?it/s]"
      ]
     },
     "metadata": {},
     "output_type": "display_data"
    },
    {
     "name": "stdout",
     "output_type": "stream",
     "text": [
      "Epoch: 63 | Accuracy: 0.9965 | Loss: 0.0140\n",
      "Epoch: 63 | Val Accuracy: 0.8235 |Val Loss: 0.6750\n",
      "##########################################\n"
     ]
    },
    {
     "data": {
      "application/vnd.jupyter.widget-view+json": {
       "model_id": "4ffb5845ce674fe9a417ade8fac4fc6f",
       "version_major": 2,
       "version_minor": 0
      },
      "text/plain": [
       "  0%|          | 0/98 [00:00<?, ?it/s]"
      ]
     },
     "metadata": {},
     "output_type": "display_data"
    },
    {
     "name": "stdout",
     "output_type": "stream",
     "text": [
      "Epoch: 64 | Accuracy: 0.9930 | Loss: 0.0196\n",
      "Epoch: 64 | Val Accuracy: 0.8492 |Val Loss: 0.5106\n",
      "##########################################\n"
     ]
    },
    {
     "data": {
      "application/vnd.jupyter.widget-view+json": {
       "model_id": "4cf148144f704b9082006bdbc23e808d",
       "version_major": 2,
       "version_minor": 0
      },
      "text/plain": [
       "  0%|          | 0/98 [00:00<?, ?it/s]"
      ]
     },
     "metadata": {},
     "output_type": "display_data"
    },
    {
     "name": "stdout",
     "output_type": "stream",
     "text": [
      "Epoch: 65 | Accuracy: 0.9914 | Loss: 0.0223\n",
      "Epoch: 65 | Val Accuracy: 0.8348 |Val Loss: 0.6265\n",
      "##########################################\n"
     ]
    },
    {
     "data": {
      "application/vnd.jupyter.widget-view+json": {
       "model_id": "53adf69c69f94464a066c6f8cdef2478",
       "version_major": 2,
       "version_minor": 0
      },
      "text/plain": [
       "  0%|          | 0/98 [00:00<?, ?it/s]"
      ]
     },
     "metadata": {},
     "output_type": "display_data"
    },
    {
     "name": "stdout",
     "output_type": "stream",
     "text": [
      "Epoch: 66 | Accuracy: 0.9930 | Loss: 0.0193\n",
      "Epoch: 66 | Val Accuracy: 0.8197 |Val Loss: 0.6770\n",
      "##########################################\n"
     ]
    },
    {
     "data": {
      "application/vnd.jupyter.widget-view+json": {
       "model_id": "5f51984abede40f8911330378bf9cf3a",
       "version_major": 2,
       "version_minor": 0
      },
      "text/plain": [
       "  0%|          | 0/98 [00:00<?, ?it/s]"
      ]
     },
     "metadata": {},
     "output_type": "display_data"
    },
    {
     "name": "stdout",
     "output_type": "stream",
     "text": [
      "Epoch: 67 | Accuracy: 0.9955 | Loss: 0.0124\n",
      "Epoch: 67 | Val Accuracy: 0.8246 |Val Loss: 0.6169\n",
      "##########################################\n"
     ]
    },
    {
     "data": {
      "application/vnd.jupyter.widget-view+json": {
       "model_id": "2c2ca65c5e234973b773e4c2c7c3a786",
       "version_major": 2,
       "version_minor": 0
      },
      "text/plain": [
       "  0%|          | 0/98 [00:00<?, ?it/s]"
      ]
     },
     "metadata": {},
     "output_type": "display_data"
    },
    {
     "name": "stdout",
     "output_type": "stream",
     "text": [
      "Epoch: 68 | Accuracy: 0.9974 | Loss: 0.0083\n",
      "Epoch: 68 | Val Accuracy: 0.8216 |Val Loss: 0.7259\n",
      "##########################################\n"
     ]
    },
    {
     "data": {
      "application/vnd.jupyter.widget-view+json": {
       "model_id": "9f8c42aaf6a849ce948d7dd80ba7fae5",
       "version_major": 2,
       "version_minor": 0
      },
      "text/plain": [
       "  0%|          | 0/98 [00:00<?, ?it/s]"
      ]
     },
     "metadata": {},
     "output_type": "display_data"
    },
    {
     "name": "stdout",
     "output_type": "stream",
     "text": [
      "Epoch: 69 | Accuracy: 0.9972 | Loss: 0.0072\n",
      "Epoch: 69 | Val Accuracy: 0.8216 |Val Loss: 0.7376\n",
      "##########################################\n"
     ]
    },
    {
     "data": {
      "application/vnd.jupyter.widget-view+json": {
       "model_id": "9236736f7a984c75bc70d2297dfe8484",
       "version_major": 2,
       "version_minor": 0
      },
      "text/plain": [
       "  0%|          | 0/98 [00:00<?, ?it/s]"
      ]
     },
     "metadata": {},
     "output_type": "display_data"
    },
    {
     "name": "stdout",
     "output_type": "stream",
     "text": [
      "Epoch: 70 | Accuracy: 0.9981 | Loss: 0.0074\n",
      "Epoch: 70 | Val Accuracy: 0.8273 |Val Loss: 0.6381\n",
      "##########################################\n"
     ]
    },
    {
     "data": {
      "application/vnd.jupyter.widget-view+json": {
       "model_id": "ef9d0a9b1e9d49038fbfee5f03d0f5cf",
       "version_major": 2,
       "version_minor": 0
      },
      "text/plain": [
       "  0%|          | 0/98 [00:00<?, ?it/s]"
      ]
     },
     "metadata": {},
     "output_type": "display_data"
    },
    {
     "name": "stdout",
     "output_type": "stream",
     "text": [
      "Epoch: 71 | Accuracy: 0.9981 | Loss: 0.0041\n",
      "Epoch: 71 | Val Accuracy: 0.8216 |Val Loss: 0.6606\n",
      "##########################################\n"
     ]
    },
    {
     "data": {
      "application/vnd.jupyter.widget-view+json": {
       "model_id": "34b3c6eaa6fe402295762e2e000ccb61",
       "version_major": 2,
       "version_minor": 0
      },
      "text/plain": [
       "  0%|          | 0/98 [00:00<?, ?it/s]"
      ]
     },
     "metadata": {},
     "output_type": "display_data"
    },
    {
     "name": "stdout",
     "output_type": "stream",
     "text": [
      "Epoch: 72 | Accuracy: 0.9974 | Loss: 0.0069\n",
      "Epoch: 72 | Val Accuracy: 0.8178 |Val Loss: 0.7891\n",
      "##########################################\n"
     ]
    },
    {
     "data": {
      "application/vnd.jupyter.widget-view+json": {
       "model_id": "517f4a23d1cb453b81728e23614c33bb",
       "version_major": 2,
       "version_minor": 0
      },
      "text/plain": [
       "  0%|          | 0/98 [00:00<?, ?it/s]"
      ]
     },
     "metadata": {},
     "output_type": "display_data"
    },
    {
     "name": "stdout",
     "output_type": "stream",
     "text": [
      "Epoch: 73 | Accuracy: 0.9987 | Loss: 0.0043\n",
      "Epoch: 73 | Val Accuracy: 0.8216 |Val Loss: 0.6973\n",
      "##########################################\n"
     ]
    },
    {
     "data": {
      "application/vnd.jupyter.widget-view+json": {
       "model_id": "f8b78fd57a7f4cfc9eee8118c19907cf",
       "version_major": 2,
       "version_minor": 0
      },
      "text/plain": [
       "  0%|          | 0/98 [00:00<?, ?it/s]"
      ]
     },
     "metadata": {},
     "output_type": "display_data"
    },
    {
     "name": "stdout",
     "output_type": "stream",
     "text": [
      "Epoch: 74 | Accuracy: 1.0000 | Loss: 0.0018\n",
      "Epoch: 74 | Val Accuracy: 0.8197 |Val Loss: 0.8594\n",
      "##########################################\n"
     ]
    },
    {
     "data": {
      "application/vnd.jupyter.widget-view+json": {
       "model_id": "baf2844f8150487ab3107e0090577f37",
       "version_major": 2,
       "version_minor": 0
      },
      "text/plain": [
       "  0%|          | 0/98 [00:00<?, ?it/s]"
      ]
     },
     "metadata": {},
     "output_type": "display_data"
    },
    {
     "name": "stdout",
     "output_type": "stream",
     "text": [
      "Epoch: 75 | Accuracy: 0.9981 | Loss: 0.0098\n",
      "Epoch: 75 | Val Accuracy: 0.8216 |Val Loss: 0.8849\n",
      "##########################################\n"
     ]
    },
    {
     "data": {
      "application/vnd.jupyter.widget-view+json": {
       "model_id": "043aac726ab84253b0a6fba99c100b80",
       "version_major": 2,
       "version_minor": 0
      },
      "text/plain": [
       "  0%|          | 0/98 [00:00<?, ?it/s]"
      ]
     },
     "metadata": {},
     "output_type": "display_data"
    },
    {
     "name": "stdout",
     "output_type": "stream",
     "text": [
      "Epoch: 76 | Accuracy: 0.9968 | Loss: 0.0116\n",
      "Epoch: 76 | Val Accuracy: 0.8178 |Val Loss: 0.6594\n",
      "##########################################\n"
     ]
    },
    {
     "data": {
      "application/vnd.jupyter.widget-view+json": {
       "model_id": "580dffe8b4a144edbf8ac0dfb9eb2099",
       "version_major": 2,
       "version_minor": 0
      },
      "text/plain": [
       "  0%|          | 0/98 [00:00<?, ?it/s]"
      ]
     },
     "metadata": {},
     "output_type": "display_data"
    },
    {
     "name": "stdout",
     "output_type": "stream",
     "text": [
      "Epoch: 77 | Accuracy: 0.9981 | Loss: 0.0138\n",
      "Epoch: 77 | Val Accuracy: 0.8273 |Val Loss: 0.7705\n",
      "##########################################\n"
     ]
    },
    {
     "data": {
      "application/vnd.jupyter.widget-view+json": {
       "model_id": "5d94fa0341f44d4cbe03ca96166957fc",
       "version_major": 2,
       "version_minor": 0
      },
      "text/plain": [
       "  0%|          | 0/98 [00:00<?, ?it/s]"
      ]
     },
     "metadata": {},
     "output_type": "display_data"
    },
    {
     "name": "stdout",
     "output_type": "stream",
     "text": [
      "Epoch: 78 | Accuracy: 0.9981 | Loss: 0.0080\n",
      "Epoch: 78 | Val Accuracy: 0.8235 |Val Loss: 0.8087\n",
      "##########################################\n"
     ]
    },
    {
     "data": {
      "application/vnd.jupyter.widget-view+json": {
       "model_id": "1ec412ce486c4888b6621bf0568028e0",
       "version_major": 2,
       "version_minor": 0
      },
      "text/plain": [
       "  0%|          | 0/98 [00:00<?, ?it/s]"
      ]
     },
     "metadata": {},
     "output_type": "display_data"
    },
    {
     "name": "stdout",
     "output_type": "stream",
     "text": [
      "Epoch: 79 | Accuracy: 0.9987 | Loss: 0.0059\n",
      "Epoch: 79 | Val Accuracy: 0.8273 |Val Loss: 0.8251\n",
      "##########################################\n"
     ]
    },
    {
     "data": {
      "application/vnd.jupyter.widget-view+json": {
       "model_id": "e28313ca7ce84170a187be53123d08c4",
       "version_major": 2,
       "version_minor": 0
      },
      "text/plain": [
       "  0%|          | 0/98 [00:00<?, ?it/s]"
      ]
     },
     "metadata": {},
     "output_type": "display_data"
    },
    {
     "name": "stdout",
     "output_type": "stream",
     "text": [
      "Epoch: 80 | Accuracy: 0.9991 | Loss: 0.0021\n",
      "Epoch: 80 | Val Accuracy: 0.8273 |Val Loss: 0.7732\n",
      "##########################################\n"
     ]
    },
    {
     "data": {
      "application/vnd.jupyter.widget-view+json": {
       "model_id": "cf7e3e7c220c4e31a83914acba4c7f0b",
       "version_major": 2,
       "version_minor": 0
      },
      "text/plain": [
       "  0%|          | 0/98 [00:00<?, ?it/s]"
      ]
     },
     "metadata": {},
     "output_type": "display_data"
    },
    {
     "name": "stdout",
     "output_type": "stream",
     "text": [
      "Epoch: 81 | Accuracy: 0.9974 | Loss: 0.0079\n",
      "Epoch: 81 | Val Accuracy: 0.8140 |Val Loss: 0.9380\n",
      "##########################################\n"
     ]
    },
    {
     "data": {
      "application/vnd.jupyter.widget-view+json": {
       "model_id": "94a6361d276c4494b57d233cf33f3396",
       "version_major": 2,
       "version_minor": 0
      },
      "text/plain": [
       "  0%|          | 0/98 [00:00<?, ?it/s]"
      ]
     },
     "metadata": {},
     "output_type": "display_data"
    },
    {
     "name": "stdout",
     "output_type": "stream",
     "text": [
      "Epoch: 82 | Accuracy: 0.9949 | Loss: 0.0151\n",
      "Epoch: 82 | Val Accuracy: 0.8341 |Val Loss: 0.7077\n",
      "##########################################\n"
     ]
    },
    {
     "data": {
      "application/vnd.jupyter.widget-view+json": {
       "model_id": "2fcec1161895483a9a8dc2d4acbc856d",
       "version_major": 2,
       "version_minor": 0
      },
      "text/plain": [
       "  0%|          | 0/98 [00:00<?, ?it/s]"
      ]
     },
     "metadata": {},
     "output_type": "display_data"
    },
    {
     "name": "stdout",
     "output_type": "stream",
     "text": [
      "Epoch: 83 | Accuracy: 0.9987 | Loss: 0.0067\n",
      "Epoch: 83 | Val Accuracy: 0.8322 |Val Loss: 0.6266\n",
      "##########################################\n"
     ]
    },
    {
     "data": {
      "application/vnd.jupyter.widget-view+json": {
       "model_id": "3e7314f429fe436ebac0c0a85a73be74",
       "version_major": 2,
       "version_minor": 0
      },
      "text/plain": [
       "  0%|          | 0/98 [00:00<?, ?it/s]"
      ]
     },
     "metadata": {},
     "output_type": "display_data"
    },
    {
     "name": "stdout",
     "output_type": "stream",
     "text": [
      "Epoch: 84 | Accuracy: 0.9930 | Loss: 0.0228\n",
      "Epoch: 84 | Val Accuracy: 0.8398 |Val Loss: 0.6264\n",
      "##########################################\n"
     ]
    },
    {
     "data": {
      "application/vnd.jupyter.widget-view+json": {
       "model_id": "c7ab3c493c77447994c314a58263972b",
       "version_major": 2,
       "version_minor": 0
      },
      "text/plain": [
       "  0%|          | 0/98 [00:00<?, ?it/s]"
      ]
     },
     "metadata": {},
     "output_type": "display_data"
    },
    {
     "name": "stdout",
     "output_type": "stream",
     "text": [
      "Epoch: 85 | Accuracy: 0.9981 | Loss: 0.0080\n",
      "Epoch: 85 | Val Accuracy: 0.8246 |Val Loss: 0.6113\n",
      "##########################################\n"
     ]
    },
    {
     "data": {
      "application/vnd.jupyter.widget-view+json": {
       "model_id": "b826ea72934a4294922c3ca83f118d45",
       "version_major": 2,
       "version_minor": 0
      },
      "text/plain": [
       "  0%|          | 0/98 [00:00<?, ?it/s]"
      ]
     },
     "metadata": {},
     "output_type": "display_data"
    },
    {
     "name": "stdout",
     "output_type": "stream",
     "text": [
      "Epoch: 86 | Accuracy: 1.0000 | Loss: 0.0012\n",
      "Epoch: 86 | Val Accuracy: 0.8379 |Val Loss: 0.6583\n",
      "##########################################\n"
     ]
    },
    {
     "data": {
      "application/vnd.jupyter.widget-view+json": {
       "model_id": "ae048e5177d9459badcab21925a4f358",
       "version_major": 2,
       "version_minor": 0
      },
      "text/plain": [
       "  0%|          | 0/98 [00:00<?, ?it/s]"
      ]
     },
     "metadata": {},
     "output_type": "display_data"
    },
    {
     "name": "stdout",
     "output_type": "stream",
     "text": [
      "Epoch: 87 | Accuracy: 0.9974 | Loss: 0.0048\n",
      "Epoch: 87 | Val Accuracy: 0.8284 |Val Loss: 0.6280\n",
      "##########################################\n"
     ]
    },
    {
     "data": {
      "application/vnd.jupyter.widget-view+json": {
       "model_id": "63aa6433af1542cb89ee3dca4aad4e8c",
       "version_major": 2,
       "version_minor": 0
      },
      "text/plain": [
       "  0%|          | 0/98 [00:00<?, ?it/s]"
      ]
     },
     "metadata": {},
     "output_type": "display_data"
    },
    {
     "name": "stdout",
     "output_type": "stream",
     "text": [
      "Epoch: 88 | Accuracy: 0.9994 | Loss: 0.0035\n",
      "Epoch: 88 | Val Accuracy: 0.8311 |Val Loss: 0.8094\n",
      "##########################################\n"
     ]
    },
    {
     "data": {
      "application/vnd.jupyter.widget-view+json": {
       "model_id": "22f3308c036747fab51a6a2074737267",
       "version_major": 2,
       "version_minor": 0
      },
      "text/plain": [
       "  0%|          | 0/98 [00:00<?, ?it/s]"
      ]
     },
     "metadata": {},
     "output_type": "display_data"
    },
    {
     "name": "stdout",
     "output_type": "stream",
     "text": [
      "Epoch: 89 | Accuracy: 1.0000 | Loss: 0.0020\n",
      "Epoch: 89 | Val Accuracy: 0.8386 |Val Loss: 0.7670\n",
      "##########################################\n"
     ]
    },
    {
     "data": {
      "application/vnd.jupyter.widget-view+json": {
       "model_id": "1460532219b9496b805736c008b4c8cf",
       "version_major": 2,
       "version_minor": 0
      },
      "text/plain": [
       "  0%|          | 0/98 [00:00<?, ?it/s]"
      ]
     },
     "metadata": {},
     "output_type": "display_data"
    },
    {
     "name": "stdout",
     "output_type": "stream",
     "text": [
      "Epoch: 90 | Accuracy: 0.9994 | Loss: 0.0032\n",
      "Epoch: 90 | Val Accuracy: 0.8227 |Val Loss: 0.6497\n",
      "##########################################\n"
     ]
    },
    {
     "data": {
      "application/vnd.jupyter.widget-view+json": {
       "model_id": "49795252b7ee48a9accf930ef8c4fb37",
       "version_major": 2,
       "version_minor": 0
      },
      "text/plain": [
       "  0%|          | 0/98 [00:00<?, ?it/s]"
      ]
     },
     "metadata": {},
     "output_type": "display_data"
    },
    {
     "name": "stdout",
     "output_type": "stream",
     "text": [
      "Epoch: 91 | Accuracy: 1.0000 | Loss: 0.0016\n",
      "Epoch: 91 | Val Accuracy: 0.8379 |Val Loss: 0.6333\n",
      "##########################################\n"
     ]
    },
    {
     "data": {
      "application/vnd.jupyter.widget-view+json": {
       "model_id": "55fc614fb3a34449a58f1af3f44460a8",
       "version_major": 2,
       "version_minor": 0
      },
      "text/plain": [
       "  0%|          | 0/98 [00:00<?, ?it/s]"
      ]
     },
     "metadata": {},
     "output_type": "display_data"
    },
    {
     "name": "stdout",
     "output_type": "stream",
     "text": [
      "Epoch: 92 | Accuracy: 0.9968 | Loss: 0.0072\n",
      "Epoch: 92 | Val Accuracy: 0.8348 |Val Loss: 0.7434\n",
      "##########################################\n"
     ]
    },
    {
     "data": {
      "application/vnd.jupyter.widget-view+json": {
       "model_id": "53edfb9ab62e49ef8fc9c5ec2b631bba",
       "version_major": 2,
       "version_minor": 0
      },
      "text/plain": [
       "  0%|          | 0/98 [00:00<?, ?it/s]"
      ]
     },
     "metadata": {},
     "output_type": "display_data"
    },
    {
     "name": "stdout",
     "output_type": "stream",
     "text": [
      "Epoch: 93 | Accuracy: 1.0000 | Loss: 0.0008\n",
      "Epoch: 93 | Val Accuracy: 0.8189 |Val Loss: 0.6872\n",
      "##########################################\n"
     ]
    },
    {
     "data": {
      "application/vnd.jupyter.widget-view+json": {
       "model_id": "36fcc208db06419ba99f4a1c66fc4b3d",
       "version_major": 2,
       "version_minor": 0
      },
      "text/plain": [
       "  0%|          | 0/98 [00:00<?, ?it/s]"
      ]
     },
     "metadata": {},
     "output_type": "display_data"
    },
    {
     "name": "stdout",
     "output_type": "stream",
     "text": [
      "Epoch: 94 | Accuracy: 0.9978 | Loss: 0.0053\n",
      "Epoch: 94 | Val Accuracy: 0.8159 |Val Loss: 0.7140\n",
      "##########################################\n"
     ]
    },
    {
     "data": {
      "application/vnd.jupyter.widget-view+json": {
       "model_id": "c61195ffb05f448b923d272739609bbd",
       "version_major": 2,
       "version_minor": 0
      },
      "text/plain": [
       "  0%|          | 0/98 [00:00<?, ?it/s]"
      ]
     },
     "metadata": {},
     "output_type": "display_data"
    },
    {
     "name": "stdout",
     "output_type": "stream",
     "text": [
      "Epoch: 95 | Accuracy: 0.9994 | Loss: 0.0022\n",
      "Epoch: 95 | Val Accuracy: 0.8273 |Val Loss: 0.7028\n",
      "##########################################\n"
     ]
    },
    {
     "data": {
      "application/vnd.jupyter.widget-view+json": {
       "model_id": "bfbec3a1034d478095fe5d34d3553631",
       "version_major": 2,
       "version_minor": 0
      },
      "text/plain": [
       "  0%|          | 0/98 [00:00<?, ?it/s]"
      ]
     },
     "metadata": {},
     "output_type": "display_data"
    },
    {
     "name": "stdout",
     "output_type": "stream",
     "text": [
      "Epoch: 96 | Accuracy: 0.9974 | Loss: 0.0052\n",
      "Epoch: 96 | Val Accuracy: 0.8235 |Val Loss: 0.6959\n",
      "##########################################\n"
     ]
    },
    {
     "data": {
      "application/vnd.jupyter.widget-view+json": {
       "model_id": "31085ec2cc1e4ed6bf985faae78ac29e",
       "version_major": 2,
       "version_minor": 0
      },
      "text/plain": [
       "  0%|          | 0/98 [00:00<?, ?it/s]"
      ]
     },
     "metadata": {},
     "output_type": "display_data"
    },
    {
     "name": "stdout",
     "output_type": "stream",
     "text": [
      "Epoch: 97 | Accuracy: 0.9981 | Loss: 0.0054\n",
      "Epoch: 97 | Val Accuracy: 0.8254 |Val Loss: 0.6979\n",
      "##########################################\n"
     ]
    },
    {
     "data": {
      "application/vnd.jupyter.widget-view+json": {
       "model_id": "542a4882b83149879b7f3d7e251a29a3",
       "version_major": 2,
       "version_minor": 0
      },
      "text/plain": [
       "  0%|          | 0/98 [00:00<?, ?it/s]"
      ]
     },
     "metadata": {},
     "output_type": "display_data"
    },
    {
     "name": "stdout",
     "output_type": "stream",
     "text": [
      "Epoch: 98 | Accuracy: 0.9981 | Loss: 0.0050\n",
      "Epoch: 98 | Val Accuracy: 0.8254 |Val Loss: 0.7097\n",
      "##########################################\n"
     ]
    },
    {
     "data": {
      "application/vnd.jupyter.widget-view+json": {
       "model_id": "5b9ba1e1221c4c4c9c06667ddcc3bab7",
       "version_major": 2,
       "version_minor": 0
      },
      "text/plain": [
       "  0%|          | 0/98 [00:00<?, ?it/s]"
      ]
     },
     "metadata": {},
     "output_type": "display_data"
    },
    {
     "name": "stdout",
     "output_type": "stream",
     "text": [
      "Epoch: 99 | Accuracy: 0.9987 | Loss: 0.0045\n",
      "Epoch: 99 | Val Accuracy: 0.8208 |Val Loss: 0.7049\n",
      "##########################################\n"
     ]
    },
    {
     "data": {
      "application/vnd.jupyter.widget-view+json": {
       "model_id": "997883337bee438c9810a3f5c81a2a3b",
       "version_major": 2,
       "version_minor": 0
      },
      "text/plain": [
       "  0%|          | 0/98 [00:00<?, ?it/s]"
      ]
     },
     "metadata": {},
     "output_type": "display_data"
    },
    {
     "name": "stdout",
     "output_type": "stream",
     "text": [
      "Epoch: 100 | Accuracy: 0.9949 | Loss: 0.0123\n",
      "Epoch: 100 | Val Accuracy: 0.8227 |Val Loss: 0.6838\n",
      "##########################################\n"
     ]
    },
    {
     "data": {
      "application/vnd.jupyter.widget-view+json": {
       "model_id": "4bc0dfe7ddc3458c9a63d97188c6b9fc",
       "version_major": 2,
       "version_minor": 0
      },
      "text/plain": [
       "  0%|          | 0/98 [00:00<?, ?it/s]"
      ]
     },
     "metadata": {},
     "output_type": "display_data"
    },
    {
     "name": "stdout",
     "output_type": "stream",
     "text": [
      "Epoch: 101 | Accuracy: 0.9987 | Loss: 0.0046\n",
      "Epoch: 101 | Val Accuracy: 0.8292 |Val Loss: 0.7250\n",
      "##########################################\n"
     ]
    },
    {
     "data": {
      "application/vnd.jupyter.widget-view+json": {
       "model_id": "8336d153cbe0417c80fe662f47ba49ad",
       "version_major": 2,
       "version_minor": 0
      },
      "text/plain": [
       "  0%|          | 0/98 [00:00<?, ?it/s]"
      ]
     },
     "metadata": {},
     "output_type": "display_data"
    },
    {
     "name": "stdout",
     "output_type": "stream",
     "text": [
      "Epoch: 102 | Accuracy: 1.0000 | Loss: 0.0009\n",
      "Epoch: 102 | Val Accuracy: 0.8197 |Val Loss: 0.8672\n",
      "##########################################\n"
     ]
    },
    {
     "data": {
      "application/vnd.jupyter.widget-view+json": {
       "model_id": "ea9bd17b2a6d42bab404f58bef31b19d",
       "version_major": 2,
       "version_minor": 0
      },
      "text/plain": [
       "  0%|          | 0/98 [00:00<?, ?it/s]"
      ]
     },
     "metadata": {},
     "output_type": "display_data"
    },
    {
     "name": "stdout",
     "output_type": "stream",
     "text": [
      "Epoch: 103 | Accuracy: 0.9994 | Loss: 0.0016\n",
      "Epoch: 103 | Val Accuracy: 0.8208 |Val Loss: 0.7579\n",
      "##########################################\n"
     ]
    },
    {
     "data": {
      "application/vnd.jupyter.widget-view+json": {
       "model_id": "575d2eb3f3a541438816d69ac086a549",
       "version_major": 2,
       "version_minor": 0
      },
      "text/plain": [
       "  0%|          | 0/98 [00:00<?, ?it/s]"
      ]
     },
     "metadata": {},
     "output_type": "display_data"
    },
    {
     "name": "stdout",
     "output_type": "stream",
     "text": [
      "Epoch: 104 | Accuracy: 0.9936 | Loss: 0.0226\n",
      "Epoch: 104 | Val Accuracy: 0.7970 |Val Loss: 1.4551\n",
      "##########################################\n"
     ]
    },
    {
     "data": {
      "application/vnd.jupyter.widget-view+json": {
       "model_id": "26c5d2a407da47c4962ea90356efd7e0",
       "version_major": 2,
       "version_minor": 0
      },
      "text/plain": [
       "  0%|          | 0/98 [00:00<?, ?it/s]"
      ]
     },
     "metadata": {},
     "output_type": "display_data"
    },
    {
     "name": "stdout",
     "output_type": "stream",
     "text": [
      "Epoch: 105 | Accuracy: 0.9981 | Loss: 0.0045\n",
      "Epoch: 105 | Val Accuracy: 0.8197 |Val Loss: 0.7726\n",
      "##########################################\n"
     ]
    },
    {
     "data": {
      "application/vnd.jupyter.widget-view+json": {
       "model_id": "0bfafa06d5ab4bc990616e800cbb9e4b",
       "version_major": 2,
       "version_minor": 0
      },
      "text/plain": [
       "  0%|          | 0/98 [00:00<?, ?it/s]"
      ]
     },
     "metadata": {},
     "output_type": "display_data"
    },
    {
     "name": "stdout",
     "output_type": "stream",
     "text": [
      "Epoch: 106 | Accuracy: 0.9981 | Loss: 0.0042\n",
      "Epoch: 106 | Val Accuracy: 0.8216 |Val Loss: 0.9612\n",
      "##########################################\n"
     ]
    },
    {
     "data": {
      "application/vnd.jupyter.widget-view+json": {
       "model_id": "d26cb09a7e314297b650ea825cc7bc75",
       "version_major": 2,
       "version_minor": 0
      },
      "text/plain": [
       "  0%|          | 0/98 [00:00<?, ?it/s]"
      ]
     },
     "metadata": {},
     "output_type": "display_data"
    },
    {
     "name": "stdout",
     "output_type": "stream",
     "text": [
      "Epoch: 107 | Accuracy: 0.9981 | Loss: 0.0050\n",
      "Epoch: 107 | Val Accuracy: 0.8140 |Val Loss: 0.7830\n",
      "##########################################\n"
     ]
    },
    {
     "data": {
      "application/vnd.jupyter.widget-view+json": {
       "model_id": "9ccc1e574460496681937654aa68f445",
       "version_major": 2,
       "version_minor": 0
      },
      "text/plain": [
       "  0%|          | 0/98 [00:00<?, ?it/s]"
      ]
     },
     "metadata": {},
     "output_type": "display_data"
    },
    {
     "name": "stdout",
     "output_type": "stream",
     "text": [
      "Epoch: 108 | Accuracy: 0.9965 | Loss: 0.0067\n",
      "Epoch: 108 | Val Accuracy: 0.8254 |Val Loss: 0.8945\n",
      "##########################################\n"
     ]
    },
    {
     "data": {
      "application/vnd.jupyter.widget-view+json": {
       "model_id": "fdf2c366e8f74bb99d40f66fe6b36215",
       "version_major": 2,
       "version_minor": 0
      },
      "text/plain": [
       "  0%|          | 0/98 [00:00<?, ?it/s]"
      ]
     },
     "metadata": {},
     "output_type": "display_data"
    },
    {
     "name": "stdout",
     "output_type": "stream",
     "text": [
      "Epoch: 109 | Accuracy: 0.9974 | Loss: 0.0046\n",
      "Epoch: 109 | Val Accuracy: 0.8311 |Val Loss: 0.7879\n",
      "##########################################\n"
     ]
    },
    {
     "data": {
      "application/vnd.jupyter.widget-view+json": {
       "model_id": "ad4f62fc7ae347c0a7d7b52ef769121d",
       "version_major": 2,
       "version_minor": 0
      },
      "text/plain": [
       "  0%|          | 0/98 [00:00<?, ?it/s]"
      ]
     },
     "metadata": {},
     "output_type": "display_data"
    },
    {
     "name": "stdout",
     "output_type": "stream",
     "text": [
      "Epoch: 110 | Accuracy: 0.9987 | Loss: 0.0045\n",
      "Epoch: 110 | Val Accuracy: 0.8254 |Val Loss: 0.8741\n",
      "##########################################\n"
     ]
    },
    {
     "data": {
      "application/vnd.jupyter.widget-view+json": {
       "model_id": "cdef59fce74c4031b4871c3b06ae131e",
       "version_major": 2,
       "version_minor": 0
      },
      "text/plain": [
       "  0%|          | 0/98 [00:00<?, ?it/s]"
      ]
     },
     "metadata": {},
     "output_type": "display_data"
    },
    {
     "name": "stdout",
     "output_type": "stream",
     "text": [
      "Epoch: 111 | Accuracy: 0.9987 | Loss: 0.0026\n",
      "Epoch: 111 | Val Accuracy: 0.8265 |Val Loss: 0.7706\n",
      "##########################################\n"
     ]
    },
    {
     "data": {
      "application/vnd.jupyter.widget-view+json": {
       "model_id": "de2a2742bc2f4e8aa1bf515e49416a25",
       "version_major": 2,
       "version_minor": 0
      },
      "text/plain": [
       "  0%|          | 0/98 [00:00<?, ?it/s]"
      ]
     },
     "metadata": {},
     "output_type": "display_data"
    },
    {
     "name": "stdout",
     "output_type": "stream",
     "text": [
      "Epoch: 112 | Accuracy: 0.9987 | Loss: 0.0041\n",
      "Epoch: 112 | Val Accuracy: 0.8330 |Val Loss: 0.7613\n",
      "##########################################\n"
     ]
    },
    {
     "data": {
      "application/vnd.jupyter.widget-view+json": {
       "model_id": "9656171389f6443eb88a0149794f7215",
       "version_major": 2,
       "version_minor": 0
      },
      "text/plain": [
       "  0%|          | 0/98 [00:00<?, ?it/s]"
      ]
     },
     "metadata": {},
     "output_type": "display_data"
    },
    {
     "name": "stdout",
     "output_type": "stream",
     "text": [
      "Epoch: 113 | Accuracy: 0.9974 | Loss: 0.0075\n",
      "Epoch: 113 | Val Accuracy: 0.8254 |Val Loss: 0.7123\n",
      "##########################################\n"
     ]
    },
    {
     "data": {
      "application/vnd.jupyter.widget-view+json": {
       "model_id": "1c3455aa72424deab14f600547519cbe",
       "version_major": 2,
       "version_minor": 0
      },
      "text/plain": [
       "  0%|          | 0/98 [00:00<?, ?it/s]"
      ]
     },
     "metadata": {},
     "output_type": "display_data"
    },
    {
     "name": "stdout",
     "output_type": "stream",
     "text": [
      "Epoch: 114 | Accuracy: 0.9987 | Loss: 0.0041\n",
      "Epoch: 114 | Val Accuracy: 0.8254 |Val Loss: 1.3361\n",
      "##########################################\n"
     ]
    },
    {
     "data": {
      "application/vnd.jupyter.widget-view+json": {
       "model_id": "2a4b32afebf843c6818067c6542e8582",
       "version_major": 2,
       "version_minor": 0
      },
      "text/plain": [
       "  0%|          | 0/98 [00:00<?, ?it/s]"
      ]
     },
     "metadata": {},
     "output_type": "display_data"
    },
    {
     "name": "stdout",
     "output_type": "stream",
     "text": [
      "Epoch: 115 | Accuracy: 0.9994 | Loss: 0.0023\n",
      "Epoch: 115 | Val Accuracy: 0.8197 |Val Loss: 0.9961\n",
      "##########################################\n"
     ]
    },
    {
     "data": {
      "application/vnd.jupyter.widget-view+json": {
       "model_id": "74212e53297746719e86fbcb2de79884",
       "version_major": 2,
       "version_minor": 0
      },
      "text/plain": [
       "  0%|          | 0/98 [00:00<?, ?it/s]"
      ]
     },
     "metadata": {},
     "output_type": "display_data"
    },
    {
     "name": "stdout",
     "output_type": "stream",
     "text": [
      "Epoch: 116 | Accuracy: 0.9981 | Loss: 0.0086\n",
      "Epoch: 116 | Val Accuracy: 0.8152 |Val Loss: 0.7252\n",
      "##########################################\n"
     ]
    },
    {
     "data": {
      "application/vnd.jupyter.widget-view+json": {
       "model_id": "fa2aa20e709e47118441ffc46071e98b",
       "version_major": 2,
       "version_minor": 0
      },
      "text/plain": [
       "  0%|          | 0/98 [00:00<?, ?it/s]"
      ]
     },
     "metadata": {},
     "output_type": "display_data"
    },
    {
     "name": "stdout",
     "output_type": "stream",
     "text": [
      "Epoch: 117 | Accuracy: 1.0000 | Loss: 0.0007\n",
      "Epoch: 117 | Val Accuracy: 0.8284 |Val Loss: 0.7210\n",
      "##########################################\n"
     ]
    },
    {
     "data": {
      "application/vnd.jupyter.widget-view+json": {
       "model_id": "b2b84b9557d54b118fe00d79ad131fcc",
       "version_major": 2,
       "version_minor": 0
      },
      "text/plain": [
       "  0%|          | 0/98 [00:00<?, ?it/s]"
      ]
     },
     "metadata": {},
     "output_type": "display_data"
    },
    {
     "name": "stdout",
     "output_type": "stream",
     "text": [
      "Epoch: 118 | Accuracy: 0.9994 | Loss: 0.0030\n",
      "Epoch: 118 | Val Accuracy: 0.8216 |Val Loss: 1.1204\n",
      "##########################################\n"
     ]
    },
    {
     "data": {
      "application/vnd.jupyter.widget-view+json": {
       "model_id": "c61ad8540f7e48b4b060dd38bcdfa63e",
       "version_major": 2,
       "version_minor": 0
      },
      "text/plain": [
       "  0%|          | 0/98 [00:00<?, ?it/s]"
      ]
     },
     "metadata": {},
     "output_type": "display_data"
    },
    {
     "name": "stdout",
     "output_type": "stream",
     "text": [
      "Epoch: 119 | Accuracy: 0.9968 | Loss: 0.0096\n",
      "Epoch: 119 | Val Accuracy: 0.8254 |Val Loss: 0.8472\n",
      "##########################################\n"
     ]
    },
    {
     "data": {
      "application/vnd.jupyter.widget-view+json": {
       "model_id": "006aa00de9ce4fe78db2c3c479f1c1f9",
       "version_major": 2,
       "version_minor": 0
      },
      "text/plain": [
       "  0%|          | 0/98 [00:00<?, ?it/s]"
      ]
     },
     "metadata": {},
     "output_type": "display_data"
    },
    {
     "name": "stdout",
     "output_type": "stream",
     "text": [
      "Epoch: 120 | Accuracy: 0.9994 | Loss: 0.0018\n",
      "Epoch: 120 | Val Accuracy: 0.8330 |Val Loss: 0.6893\n",
      "##########################################\n"
     ]
    },
    {
     "data": {
      "application/vnd.jupyter.widget-view+json": {
       "model_id": "6134a8cb65844e54bf7ce3dfbc151cc5",
       "version_major": 2,
       "version_minor": 0
      },
      "text/plain": [
       "  0%|          | 0/98 [00:00<?, ?it/s]"
      ]
     },
     "metadata": {},
     "output_type": "display_data"
    },
    {
     "name": "stdout",
     "output_type": "stream",
     "text": [
      "Epoch: 121 | Accuracy: 1.0000 | Loss: 0.0021\n",
      "Epoch: 121 | Val Accuracy: 0.8235 |Val Loss: 0.7963\n",
      "##########################################\n"
     ]
    },
    {
     "data": {
      "application/vnd.jupyter.widget-view+json": {
       "model_id": "7f47da09aa734f7fb5c2afe20f048eb1",
       "version_major": 2,
       "version_minor": 0
      },
      "text/plain": [
       "  0%|          | 0/98 [00:00<?, ?it/s]"
      ]
     },
     "metadata": {},
     "output_type": "display_data"
    },
    {
     "name": "stdout",
     "output_type": "stream",
     "text": [
      "Epoch: 122 | Accuracy: 0.9974 | Loss: 0.0106\n",
      "Epoch: 122 | Val Accuracy: 0.8265 |Val Loss: 0.6648\n",
      "##########################################\n"
     ]
    },
    {
     "data": {
      "application/vnd.jupyter.widget-view+json": {
       "model_id": "1ea764582acd463598a20887cfc653bc",
       "version_major": 2,
       "version_minor": 0
      },
      "text/plain": [
       "  0%|          | 0/98 [00:00<?, ?it/s]"
      ]
     },
     "metadata": {},
     "output_type": "display_data"
    },
    {
     "name": "stdout",
     "output_type": "stream",
     "text": [
      "Epoch: 123 | Accuracy: 0.9994 | Loss: 0.0034\n",
      "Epoch: 123 | Val Accuracy: 0.8292 |Val Loss: 0.6927\n",
      "##########################################\n"
     ]
    },
    {
     "data": {
      "application/vnd.jupyter.widget-view+json": {
       "model_id": "9e09d43fa00d49adaaa84f3eeaff98c4",
       "version_major": 2,
       "version_minor": 0
      },
      "text/plain": [
       "  0%|          | 0/98 [00:00<?, ?it/s]"
      ]
     },
     "metadata": {},
     "output_type": "display_data"
    },
    {
     "name": "stdout",
     "output_type": "stream",
     "text": [
      "Epoch: 124 | Accuracy: 0.9994 | Loss: 0.0019\n",
      "Epoch: 124 | Val Accuracy: 0.8311 |Val Loss: 0.7499\n",
      "##########################################\n"
     ]
    },
    {
     "data": {
      "application/vnd.jupyter.widget-view+json": {
       "model_id": "fe0bf75f5cc94223be8f1281d668ce57",
       "version_major": 2,
       "version_minor": 0
      },
      "text/plain": [
       "  0%|          | 0/98 [00:00<?, ?it/s]"
      ]
     },
     "metadata": {},
     "output_type": "display_data"
    },
    {
     "name": "stdout",
     "output_type": "stream",
     "text": [
      "Epoch: 125 | Accuracy: 0.9949 | Loss: 0.0163\n",
      "Epoch: 125 | Val Accuracy: 0.8045 |Val Loss: 1.0891\n",
      "##########################################\n"
     ]
    },
    {
     "data": {
      "application/vnd.jupyter.widget-view+json": {
       "model_id": "615e0d3e241545788b017912ab16d173",
       "version_major": 2,
       "version_minor": 0
      },
      "text/plain": [
       "  0%|          | 0/98 [00:00<?, ?it/s]"
      ]
     },
     "metadata": {},
     "output_type": "display_data"
    },
    {
     "name": "stdout",
     "output_type": "stream",
     "text": [
      "Epoch: 126 | Accuracy: 0.9981 | Loss: 0.0046\n",
      "Epoch: 126 | Val Accuracy: 0.8254 |Val Loss: 0.8931\n",
      "##########################################\n"
     ]
    },
    {
     "data": {
      "application/vnd.jupyter.widget-view+json": {
       "model_id": "7f37944201cc4062927f37d33ec16408",
       "version_major": 2,
       "version_minor": 0
      },
      "text/plain": [
       "  0%|          | 0/98 [00:00<?, ?it/s]"
      ]
     },
     "metadata": {},
     "output_type": "display_data"
    },
    {
     "name": "stdout",
     "output_type": "stream",
     "text": [
      "Epoch: 127 | Accuracy: 0.9987 | Loss: 0.0049\n",
      "Epoch: 127 | Val Accuracy: 0.8284 |Val Loss: 0.7206\n",
      "##########################################\n"
     ]
    },
    {
     "data": {
      "application/vnd.jupyter.widget-view+json": {
       "model_id": "456e8f09345f405e9fd6fec1dbbe17b4",
       "version_major": 2,
       "version_minor": 0
      },
      "text/plain": [
       "  0%|          | 0/98 [00:00<?, ?it/s]"
      ]
     },
     "metadata": {},
     "output_type": "display_data"
    },
    {
     "name": "stdout",
     "output_type": "stream",
     "text": [
      "Epoch: 128 | Accuracy: 0.9994 | Loss: 0.0021\n",
      "Epoch: 128 | Val Accuracy: 0.8273 |Val Loss: 0.7423\n",
      "##########################################\n"
     ]
    }
   ],
   "source": [
    "pbar = tqdm(range(dnn_epoch), desc=\"DNN training\")\n",
    "train_acc_list = []\n",
    "train_loss_list = []\n",
    "val_acc_list = []\n",
    "val_loss_list = []\n",
    "for e in pbar:\n",
    "    dnn_model.train()\n",
    "    train_running_loss = 0.0\n",
    "    train_accuracy = 0.0\n",
    "    for idx, batch in enumerate(tqdm(train_loader)):\n",
    "        payload, header, label = batch\n",
    "        payload, header, label = payload.to(device), header.to(device), label.to(device)\n",
    "        output = dnn_model(payload, header)\n",
    "        label = label.unsqueeze(1).float()\n",
    "        loss = criterion(output, label)\n",
    "        optimizer.zero_grad()\n",
    "        loss.backward()\n",
    "        optimizer.step()\n",
    "        predicted = np.round(output.squeeze(1).detach().cpu())\n",
    "        label = label.squeeze(1)\n",
    "        correct = (predicted == label.detach().cpu()).sum().item() / len(label)\n",
    "        train_accuracy += correct\n",
    "        train_running_loss += loss.detach().item()\n",
    "        train_loss_list.append(float(loss))\n",
    "        pbar.set_postfix(dnn_epoch=f\"{e + 1} of {dnn_epoch}\", loss=f\"{loss:.8f}\")\n",
    "    print('Epoch: %d | Accuracy: %.4f | Loss: %.4f' \\\n",
    "      %(e + 1, train_accuracy/(idx+1), train_running_loss/(idx+1))) \n",
    "    train_acc_list.append(train_accuracy/(idx+1))\n",
    "    dnn_model.eval()\n",
    "    val_acc = 0.0\n",
    "    val_loss = 0.0\n",
    "    for idx, batch in enumerate(test_loader):\n",
    "        payload, header, label = batch\n",
    "        payload, header, label = payload.to(device), header.to(device), label.to(device)\n",
    "        output = dnn_model(payload, header)\n",
    "        label = label.unsqueeze(1).float()   \n",
    "        loss = criterion(output, label).detach().cpu()\n",
    "        predicted = np.round(output.squeeze(1).detach().cpu())\n",
    "        label = label.squeeze(1)\n",
    "        correct = (predicted == label.detach().cpu()).sum().item() / len(label)\n",
    "        val_acc += correct\n",
    "        val_loss += loss\n",
    "    print('Epoch: %d | Val Accuracy: %.4f |Val Loss: %.4f' \\\n",
    "      %(e + 1, val_acc/(idx+1) ,val_loss/(idx+1))) \n",
    "    val_acc_list.append(val_acc/(idx+1))\n",
    "    val_loss_list.append(val_loss/(idx+1))\n",
    "    print(\"##############\" * 3)\n",
    "    torch.save(dnn_model, os.path.join('./model_save', rf'{e+1}_{val_acc/(idx+1):.4f}.pt'))"
   ]
  },
  {
   "cell_type": "code",
   "execution_count": 242,
   "id": "d4559f7f",
   "metadata": {
    "scrolled": true
   },
   "outputs": [
    {
     "data": {
      "image/png": "[encoded data removed]",
      "text/plain": [
       "<Figure size 432x288 with 1 Axes>"
      ]
     },
     "metadata": {
      "needs_background": "light"
     },
     "output_type": "display_data"
    },
    {
     "data": {
      "image/png": "[encoded data removed]",
      "text/plain": [
       "<Figure size 432x288 with 1 Axes>"
      ]
     },
     "metadata": {
      "needs_background": "light"
     },
     "output_type": "display_data"
    }
   ],
   "source": [
    "# train_acc_list\n",
    "plt.plot(range(len(train_acc_list)), train_acc_list, color='black')\n",
    "plt.show()\n",
    "\n",
    "plt.plot(range(len(val_acc_list)), val_acc_list, color='black')\n",
    "plt.show()"
   ]
  },
  {
   "cell_type": "code",
   "execution_count": 243,
   "id": "238822f1",
   "metadata": {},
   "outputs": [
    {
     "name": "stdout",
     "output_type": "stream",
     "text": [
      "Test Accuracy: 0.8356\n"
     ]
    }
   ],
   "source": [
    "dnn_model.eval()\n",
    "test_acc = 0.0\n",
    "test_pred = []\n",
    "for idx, batch in enumerate(valid_loader):\n",
    "    payload, header, label = batch\n",
    "    payload, header, label = payload.to(device), header.to(device), label.to(device)\n",
    "    output = dnn_model(payload, header)\n",
    "    label = label.unsqueeze(1).float()   \n",
    "    loss = criterion(output, label).detach().cpu()\n",
    "    predicted = np.round(output.squeeze(1).detach().cpu())\n",
    "    label = label.squeeze(1)\n",
    "    correct = (predicted == label.detach().cpu()).sum().item() / len(label)\n",
    "    test_acc += correct\n",
    "    test_pred += predicted\n",
    "print('Test Accuracy: %.4f' \\\n",
    "  %(test_acc/(idx+1) )) "
   ]
  },
  {
   "cell_type": "code",
   "execution_count": 244,
   "id": "62b84204",
   "metadata": {},
   "outputs": [],
   "source": [
    "def get_f1(labels, pred):\n",
    "    tp, fp, tn, fn = 0, 0, 0, 0\n",
    "    for i in range(len(pred)):\n",
    "        if pred[i] == 1 :\n",
    "            if labels[i] != 0:\n",
    "                tp += 1\n",
    "            else:\n",
    "                fp += 1\n",
    "        else:\n",
    "            if labels[i] != 0:\n",
    "                fn += 1\n",
    "            else:\n",
    "                tn += 1\n",
    "    accuracy = (tp+tn)/(len(pred))\n",
    "    recall = tp/(fn+tp)\n",
    "    precision = tp/(fp+tp)\n",
    "    print(\"Accuracy :\", accuracy)\n",
    "    print(\"Recall :\", recall)\n",
    "    print(\"Precision :\", precision)\n",
    "    print(\"F1 :\", 2*(1/(1/recall + 1/precision)))"
   ]
  },
  {
   "cell_type": "code",
   "execution_count": null,
   "id": "8feb7288",
   "metadata": {},
   "outputs": [],
   "source": [
    "get_f1(test_dataset.label, test_pred)"
   ]
  },
  {
   "cell_type": "code",
   "execution_count": null,
   "id": "ac6cbc8c",
   "metadata": {},
   "outputs": [],
   "source": []
  }
 ],
 "metadata": {
  "kernelspec": {
   "display_name": "Python 3 (ipykernel)",
   "language": "python",
   "name": "python3"
  },
  "language_info": {
   "codemirror_mode": {
    "name": "ipython",
    "version": 3
   },
   "file_extension": ".py",
   "mimetype": "text/x-python",
   "name": "python",
   "nbconvert_exporter": "python",
   "pygments_lexer": "ipython3",
   "version": "3.9.12"
  }
 },
 "nbformat": 4,
 "nbformat_minor": 5
}
